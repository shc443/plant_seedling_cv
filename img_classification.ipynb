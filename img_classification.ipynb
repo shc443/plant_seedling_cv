{
 "cells": [
  {
   "cell_type": "code",
   "execution_count": 1,
   "id": "ac4979c6-e9e2-4adf-9e2a-c10a310189cc",
   "metadata": {},
   "outputs": [
    {
     "name": "stderr",
     "output_type": "stream",
     "text": [
      "/home/kchoi/.conda/envs/pl/lib/python3.7/site-packages/requests/__init__.py:104: RequestsDependencyWarning: urllib3 (1.26.9) or chardet (5.1.0)/charset_normalizer (2.0.4) doesn't match a supported version!\n",
      "  RequestsDependencyWarning)\n",
      "2023-04-20 12:23:29.128945: I tensorflow/stream_executor/platform/default/dso_loader.cc:49] Successfully opened dynamic library libcudart.so.10.1\n"
     ]
    }
   ],
   "source": [
    "!python main.py --model efficientnet_b4 --epochs 50 --wandb True\n"
   ]
  },
  {
   "cell_type": "markdown",
   "id": "aa5dca97-b366-41ca-8011-9e904677793c",
   "metadata": {},
   "source": [
    "### ignore below ------------------------------------------------------------------------------------------------\n"
   ]
  },
  {
   "cell_type": "code",
   "execution_count": null,
   "id": "8747b144-88a8-4a8f-b7b8-c140862dccce",
   "metadata": {},
   "outputs": [],
   "source": [
    "'''\n",
    "Plant Seedlings Classification project for Learning Theory Spring 23 NYU\n",
    "Authors: Kevin Choi, ...\n",
    "\n",
    "https://www.kaggle.com/competitions/plant-seedlings-classification\n",
    "'''\n",
    "\n",
    "#Import Statement\n",
    "\n",
    "import torch\n",
    "from torch import optim\n",
    "from transformers import AdamW, AutoModelForMaskedLM, AutoConfig\n",
    "from transformers import get_linear_schedule_with_warmup\n",
    "\n",
    "import timm\n",
    "import pytorch_lightning as pl\n",
    "from torch.utils.data import Dataset, DataLoader, random_split\n",
    "from torchmetrics.functional import accuracy, auroc\n",
    "from pytorch_lightning.callbacks import ModelCheckpoint, EarlyStopping\n",
    "from pytorch_lightning.loggers import TensorBoardLogger\n",
    "\n",
    "import seaborn as sns\n",
    "import matplotlib.pyplot as plt\n",
    "import re\n",
    "import os \n",
    "import tensorflow as tf\n",
    "import torch\n",
    "import torch.nn as nn\n",
    "import torch.nn.functional as F\n",
    "from sklearn.preprocessing import MultiLabelBinarizer\n",
    "\n",
    "from transformers import AdamW, BertConfig\n",
    "from transformers import get_linear_schedule_with_warmup\n",
    "from torch.utils.data import TensorDataset, DataLoader, RandomSampler, SequentialSampler\n",
    "from sklearn.model_selection import train_test_split\n",
    "from sklearn.preprocessing import MultiLabelBinarizer\n",
    "from sklearn.metrics import f1_score\n",
    "from torchmetrics import Accuracy\n",
    "\n",
    "import pytorch_lightning as pl\n",
    "# from torchvision import transforms\n",
    "# import torchvision.transforms as tt\n",
    "from torchvision import transforms\n",
    "\n",
    "from torchvision.datasets import ImageFolder\n",
    "from pytorch_lightning.loggers import WandbLogger\n",
    "import wandb\n",
    "\n",
    "import numpy as np\n",
    "import pandas as pd\n",
    "import random\n",
    "import time\n",
    "import datetime\n",
    "import pickle \n",
    "from PIL import Image\n",
    "from tqdm import tqdm\n",
    "tqdm.pandas()\n",
    "\n",
    "from os import listdir\n",
    "from os.path import isfile, join"
   ]
  },
  {
   "cell_type": "code",
   "execution_count": 4,
   "id": "39e8f646-cfc0-4e20-a0fa-ea633cdc750a",
   "metadata": {},
   "outputs": [
    {
     "name": "stdout",
     "output_type": "stream",
     "text": [
      "/home/kchoi/.conda/envs/pl/lib/python3.7/site-packages/requests/__init__.py:104: RequestsDependencyWarning: urllib3 (1.26.9) or chardet (5.1.0)/charset_normalizer (2.0.4) doesn't match a supported version!\n",
      "  RequestsDependencyWarning)\n",
      "\u001b[34m\u001b[1mwandb\u001b[0m: Currently logged in as: \u001b[33mkchoi1230\u001b[0m. Use \u001b[1m`wandb login --relogin`\u001b[0m to force relogin\n"
     ]
    }
   ],
   "source": [
    "!wandb login"
   ]
  },
  {
   "cell_type": "code",
   "execution_count": 5,
   "id": "e2032c2c-3f8c-42e7-b705-e6b94c9460e1",
   "metadata": {},
   "outputs": [
    {
     "name": "stderr",
     "output_type": "stream",
     "text": [
      "Failed to detect the name of this notebook, you can set it manually with the WANDB_NOTEBOOK_NAME environment variable to enable code saving.\n",
      "\u001b[34m\u001b[1mwandb\u001b[0m: Currently logged in as: \u001b[33mkchoi1230\u001b[0m. Use \u001b[1m`wandb login --relogin`\u001b[0m to force relogin\n",
      "2023-04-20 12:23:34.076827: I tensorflow/stream_executor/platform/default/dso_loader.cc:49] Successfully opened dynamic library libcudart.so.10.1\n"
     ]
    },
    {
     "data": {
      "text/html": [
       "wandb version 0.15.0 is available!  To upgrade, please run:\n",
       " $ pip install wandb --upgrade"
      ],
      "text/plain": [
       "<IPython.core.display.HTML object>"
      ]
     },
     "metadata": {},
     "output_type": "display_data"
    },
    {
     "data": {
      "text/html": [
       "Tracking run with wandb version 0.12.17"
      ],
      "text/plain": [
       "<IPython.core.display.HTML object>"
      ]
     },
     "metadata": {},
     "output_type": "display_data"
    },
    {
     "data": {
      "text/html": [
       "Run data is saved locally in <code>/home2/kchoi/image/wandb/run-20230420_122333-38gafdhy</code>"
      ],
      "text/plain": [
       "<IPython.core.display.HTML object>"
      ]
     },
     "metadata": {},
     "output_type": "display_data"
    },
    {
     "data": {
      "text/html": [
       "Syncing run <strong><a href=\"https://wandb.ai/kchoi1230/stat_final/runs/38gafdhy\" target=\"_blank\">golden-universe-41</a></strong> to <a href=\"https://wandb.ai/kchoi1230/stat_final\" target=\"_blank\">Weights & Biases</a> (<a href=\"https://wandb.me/run\" target=\"_blank\">docs</a>)<br/>"
      ],
      "text/plain": [
       "<IPython.core.display.HTML object>"
      ]
     },
     "metadata": {},
     "output_type": "display_data"
    },
    {
     "data": {
      "text/html": [
       "<button onClick=\"this.nextSibling.style.display='block';this.style.display='none';\">Display W&B run</button><iframe src=\"https://wandb.ai/kchoi1230/stat_final/runs/38gafdhy?jupyter=true\" style=\"border:none;width:100%;height:420px;display:none;\"></iframe>"
      ],
      "text/plain": [
       "<wandb.sdk.wandb_run.Run at 0x7effadfb7ad0>"
      ]
     },
     "execution_count": 5,
     "metadata": {},
     "output_type": "execute_result"
    }
   ],
   "source": [
    "wandb.init(project=\"stat_final\", entity=\"kchoi1230\")"
   ]
  },
  {
   "cell_type": "code",
   "execution_count": 6,
   "id": "741eaea4-3a16-47f9-9968-61435ada5cfb",
   "metadata": {},
   "outputs": [],
   "source": [
    "#Data Prep. & Processsssss\n",
    "\n",
    "class PlantDataset(Dataset):\n",
    "    def __init__(self, dataframe, root_dir, transform=None):\n",
    "        self.transform = transform\n",
    "        self.df = dataframe\n",
    "        self.root_dir = root_dir\n",
    "        #self.classes = \n",
    "    def __len__(self):\n",
    "        return len(self.df)\n",
    "    def __getitem__(self, idx):\n",
    "        fullpath = os.path.join(self.root_dir, self.df.iloc[idx][0])\n",
    "        image = Image.open(fullpath).convert('RGB')\n",
    "        if self.transform:\n",
    "            image = self.transform(image)\n",
    "        return image, self.df.iloc[idx][2]\n",
    "\n",
    "class PlantDataModule(pl.LightningDataModule):\n",
    "    def __init__(self, train_df, val_df, test_df, batch_size, data_dir: str = os.getcwd() + '/plant/data'):\n",
    "        super().__init__()\n",
    "        self.data_dir = data_dir\n",
    "        self.batch_size = batch_size\n",
    "        \n",
    "        self.train_df = train_df\n",
    "        self.val_df = val_df\n",
    "        self.test_df = test_df\n",
    "\n",
    "        self.num_classes = 12\n",
    "        self.validation_split_ratio = 0.1\n",
    "  \n",
    "    def setup(self, stage=None):\n",
    "        # Assign train/val datasets for use in dataloaders\n",
    "        \n",
    "        self.train_tfms = transforms.Compose([\n",
    "            transforms.RandomRotation(180),\n",
    "            transforms.RandomAffine(degrees = 0, translate = (0.2, 0.2)),\n",
    "            #transforms.CenterCrop(356),\n",
    "            transforms.Resize((256,256)),\n",
    "            transforms.RandomHorizontalFlip(),\n",
    "            transforms.RandomVerticalFlip(),\n",
    "            transforms.ToTensor(),\n",
    "            transforms.Normalize(mean=[0.485, 0.456, 0.406], std=[0.229, 0.224, 0.225])\n",
    "        ])\n",
    "\n",
    "        self.val_tfms = transforms.Compose([\n",
    "            #transforms.CenterCrop(356),\n",
    "            transforms.Resize((256, 256)),\n",
    "            transforms.ToTensor(),\n",
    "            transforms.Normalize(mean=[0.485, 0.456, 0.406], std=[0.229, 0.224, 0.225])\n",
    "        ])\n",
    "        # self.train_tfms = transforms.Compose([transforms.ToTensor(),transforms.Resize((224,224)), \n",
    "        #             transforms.Normalize((0.5, 0.5, 0.5), (0.5, 0.5, 0.5))])\n",
    "        # self.val_tfms = transforms.Compose([transforms.ToTensor(), transforms.Resize((224,224)),\n",
    "        #             transforms.Normalize((0.5, 0.5, 0.5), (0.5, 0.5, 0.5))])\n",
    "        \n",
    "        self.train_dataset = PlantDataset(self.train_df ,root_dir, self.train_tfms)\n",
    "        self.val_dataset = PlantDataset(self.val_df ,root_dir, self.val_tfms)\n",
    "        self.test_dataset = PlantDataset(self.test_df ,root_dir, self.val_tfms)\n",
    "    \n",
    "    def train_dataloader(self):\n",
    "        return DataLoader(self.train_dataset, batch_size=self.batch_size, shuffle=True)\n",
    "\n",
    "    def val_dataloader(self):\n",
    "        return DataLoader(self.val_dataset, batch_size=self.batch_size)\n",
    "\n",
    "    def test_dataloader(self):\n",
    "        return DataLoader(self.test_dataset, batch_size=self.batch_size)\n",
    "\n",
    "class ImagePredictionLogger(pl.callbacks.Callback):\n",
    "    def __init__(self, val_samples, num_samples=32):\n",
    "        super().__init__()\n",
    "        self.num_samples = num_samples\n",
    "        self.val_imgs, self.val_labels = val_samples\n",
    "    \n",
    "    def on_validation_epoch_end(self, trainer, pl_module):\n",
    "        # Bring the tensors to CPU\n",
    "        val_imgs = self.val_imgs.to(device=pl_module.device)\n",
    "        val_labels = self.val_labels.to(device=pl_module.device)\n",
    "        # Get model prediction\n",
    "        logits = pl_module(val_imgs)\n",
    "        preds = torch.argmax(logits, -1)\n",
    "        # Log the images as wandb Image\n",
    "        trainer.logger.experiment.log({\n",
    "            \"examples\":[wandb.Image(x, caption=f\"Pred:{pred}, Label:{y}\") \n",
    "                           for x, pred, y in zip(val_imgs[:self.num_samples], \n",
    "                                                 preds[:self.num_samples], \n",
    "                                                 val_labels[:self.num_samples])]\n",
    "            })\n",
    "\n",
    "class PlantClassifier(pl.LightningModule):\n",
    "    def __init__(self,lr=1e-4,n_classes=12):\n",
    "        super().__init__()\n",
    "        self.lr=lr\n",
    "        self.save_hyperparameters() \n",
    "        # self.model= timm.create_model('vit_base_patch16_224_in21k',pretrained=True,num_classes=n_classes)\n",
    "        # self.model= timm.create_model('maxvit_base_tf_512',pretrained=True, num_classes=0)\n",
    "        self.model= timm.create_model('maxxvit_rmlp_small_rw_256', pretrained=True)\n",
    "\n",
    "        self.accuracy = Accuracy()\n",
    "        \n",
    "    def configure_optimizers(self):\n",
    "        opt= optim.AdamW(self.model.parameters(),self.lr)\n",
    "        return opt\n",
    "    \n",
    "    def training_step(self, dl, idx):\n",
    "        x,y=dl\n",
    "        z = self.model(x)\n",
    "        loss = F.cross_entropy(z,y)\n",
    "        \n",
    "        preds = torch.argmax(z, dim=1)\n",
    "        acc = self.accuracy(preds, y)\n",
    "        self.log('train_loss', loss, on_step=True, on_epoch=True, logger=True)\n",
    "        self.log('train_acc', acc, on_step=True, on_epoch=True, logger=True)\n",
    "        return loss\n",
    "    \n",
    "    def validation_step(self, dl, idx):\n",
    "        x,y = dl\n",
    "        z = self.model(x)\n",
    "        loss = F.cross_entropy(z,y)\n",
    "        \n",
    "        preds = torch.argmax(z, dim=1)\n",
    "        acc = self.accuracy(preds, y)\n",
    "        self.log('val_loss', loss, on_step=True, on_epoch=True, logger=True)\n",
    "        self.log('val_acc', acc, on_step=True, on_epoch=True, logger=True)\n",
    "        return loss\n",
    "    \n",
    "    def test_step(self, dl, idx):\n",
    "        x,y = dl\n",
    "        z = self.model(x)\n",
    "        preds = torch.argmax(z, dim=1)\n",
    "        # self.log(\"test_loss\", loss, prog_bar=True, logger=True)\n",
    "        return preds\n",
    "\n",
    "    def predict_step(self, dl, idx, dataset_idx=0):\n",
    "        x,y = dl\n",
    "        z = self.model(x)\n",
    "        preds = torch.argmax(z, dim=1)\n",
    "        # self.log(\"predic_loss\", loss, prog_bar=True, logger=True)\n",
    "        return preds\n",
    "    \n",
    "def find_classes(fulldir):\n",
    "    classes = os.listdir(fulldir)\n",
    "    classes.sort()\n",
    "    class_to_idx = dict(zip(classes, range(len(classes)))) \n",
    "    idx_to_class = {v:k for k,v in class_to_idx.items()}\n",
    "    train = []\n",
    "    \n",
    "    for i, label in idx_to_class.items():\n",
    "        path = fulldir+\"/\"+label\n",
    "        for file in os.listdir(path):\n",
    "            train.append([f'{label}/{file}', label, i])\n",
    "    df = pd.DataFrame(train, columns=[\"file\", \"class\", \"class_index\"]) \n",
    "    return classes, class_to_idx, idx_to_class, df\n",
    "\n",
    "class TestPlant(Dataset):\n",
    "    def __init__(self, rootdir, transform=None):\n",
    "        self.transform=transform\n",
    "        self.rootdir=rootdir\n",
    "        self.image_files = os.listdir(self.rootdir)\n",
    "    def __len__(self):\n",
    "        return len(self.image_files)\n",
    "    def __getitem__(self, idx):\n",
    "        fullpath = os.path.join(self.rootdir, self.image_files[idx])\n",
    "        image = Image.open(fullpath).convert('RGB')\n",
    "        if self.transform:\n",
    "            image = self.transform(image)\n",
    "        return image, self.image_files[idx]\n",
    "    \n",
    "def load_preprocess_image(img_path, transforms):\n",
    "    img = Image.open(img_path)\n",
    "    img = img.convert('RGB')\n",
    "    img = transforms(img)\n",
    "    return img"
   ]
  },
  {
   "cell_type": "code",
   "execution_count": 7,
   "id": "2348f95d-72b2-4af3-a615-924715caebf2",
   "metadata": {},
   "outputs": [],
   "source": [
    "root_dir = os.getcwd() + \"/plant/data/train\"\n",
    "# root_dir2 = os.getcwd() + \"/plant/data/test\"\n",
    "classes, class_to_idx, idx_to_class, df = find_classes(root_dir)"
   ]
  },
  {
   "cell_type": "code",
   "execution_count": 8,
   "id": "d4dd9de1-37b2-4284-a8c2-e2dcffa8f37f",
   "metadata": {},
   "outputs": [],
   "source": [
    "root_dir = os.getcwd() + \"/plant/data/train\"\n",
    "# root_dir2 = os.getcwd() + \"/plant/data/test\"\n",
    "classes, class_to_idx, idx_to_class, df = find_classes(root_dir)\n",
    "num_classes = len(classes)\n",
    "\n",
    "df2 = pd.concat([df]*5, ignore_index=True)\n",
    "df_train, df_val = train_test_split(df2,\n",
    "                                    test_size=0.1, \n",
    "                                    random_state=1230, \n",
    "                                    stratify=df2['class_index'])\n",
    "\n",
    "val_tfms = transforms.Compose([\n",
    "            #transforms.CenterCrop(356),\n",
    "            transforms.Resize((256, 256)),\n",
    "            transforms.ToTensor(),\n",
    "            transforms.Normalize(mean=[0.485, 0.456, 0.406], std=[0.229, 0.224, 0.225])\n",
    "        ])\n",
    "\n",
    "test_dataset = TestPlant(rootdir = os.getcwd() + \"/plant/data/test\", transform=val_tfms)\n",
    "test_loader = DataLoader(test_dataset, batch_size = 32, num_workers= 4, shuffle=False)"
   ]
  },
  {
   "cell_type": "code",
   "execution_count": 9,
   "id": "9a8ce4da-9caa-4255-bcf1-1fae85edf898",
   "metadata": {},
   "outputs": [
    {
     "data": {
      "text/plain": [
       "file           Sugar beet/ffa401155.png\n",
       "class                        Sugar beet\n",
       "class_index                          11\n",
       "dtype: object"
      ]
     },
     "execution_count": 9,
     "metadata": {},
     "output_type": "execute_result"
    }
   ],
   "source": [
    "df_train.max()"
   ]
  },
  {
   "cell_type": "code",
   "execution_count": 10,
   "id": "04685d3b-4d7f-4fb6-b40a-09f7ff5ffa54",
   "metadata": {},
   "outputs": [
    {
     "data": {
      "text/plain": [
       "file           Black-grass/0260cffa8.png\n",
       "class                        Black-grass\n",
       "class_index                            0\n",
       "dtype: object"
      ]
     },
     "execution_count": 10,
     "metadata": {},
     "output_type": "execute_result"
    }
   ],
   "source": [
    "df_val.min()"
   ]
  },
  {
   "cell_type": "code",
   "execution_count": 11,
   "id": "b4b68860-3bfb-45d9-b0d8-f93458c54273",
   "metadata": {},
   "outputs": [
    {
     "data": {
      "text/html": [
       "<div>\n",
       "<style scoped>\n",
       "    .dataframe tbody tr th:only-of-type {\n",
       "        vertical-align: middle;\n",
       "    }\n",
       "\n",
       "    .dataframe tbody tr th {\n",
       "        vertical-align: top;\n",
       "    }\n",
       "\n",
       "    .dataframe thead th {\n",
       "        text-align: right;\n",
       "    }\n",
       "</style>\n",
       "<table border=\"1\" class=\"dataframe\">\n",
       "  <thead>\n",
       "    <tr style=\"text-align: right;\">\n",
       "      <th></th>\n",
       "      <th>0</th>\n",
       "      <th>1</th>\n",
       "    </tr>\n",
       "  </thead>\n",
       "  <tbody>\n",
       "    <tr>\n",
       "      <th>0</th>\n",
       "      <td>2406d6c99.png</td>\n",
       "      <td>0</td>\n",
       "    </tr>\n",
       "    <tr>\n",
       "      <th>1</th>\n",
       "      <td>9aa5587fe.png</td>\n",
       "      <td>0</td>\n",
       "    </tr>\n",
       "    <tr>\n",
       "      <th>2</th>\n",
       "      <td>089ad62a7.png</td>\n",
       "      <td>0</td>\n",
       "    </tr>\n",
       "    <tr>\n",
       "      <th>3</th>\n",
       "      <td>558aa7deb.png</td>\n",
       "      <td>0</td>\n",
       "    </tr>\n",
       "    <tr>\n",
       "      <th>4</th>\n",
       "      <td>caa2fbd79.png</td>\n",
       "      <td>0</td>\n",
       "    </tr>\n",
       "    <tr>\n",
       "      <th>...</th>\n",
       "      <td>...</td>\n",
       "      <td>...</td>\n",
       "    </tr>\n",
       "    <tr>\n",
       "      <th>789</th>\n",
       "      <td>115f93ecc.png</td>\n",
       "      <td>0</td>\n",
       "    </tr>\n",
       "    <tr>\n",
       "      <th>790</th>\n",
       "      <td>16357b436.png</td>\n",
       "      <td>0</td>\n",
       "    </tr>\n",
       "    <tr>\n",
       "      <th>791</th>\n",
       "      <td>664194d19.png</td>\n",
       "      <td>0</td>\n",
       "    </tr>\n",
       "    <tr>\n",
       "      <th>792</th>\n",
       "      <td>995c7ab1e.png</td>\n",
       "      <td>0</td>\n",
       "    </tr>\n",
       "    <tr>\n",
       "      <th>793</th>\n",
       "      <td>d0152bd7c.png</td>\n",
       "      <td>0</td>\n",
       "    </tr>\n",
       "  </tbody>\n",
       "</table>\n",
       "<p>794 rows × 2 columns</p>\n",
       "</div>"
      ],
      "text/plain": [
       "                 0  1\n",
       "0    2406d6c99.png  0\n",
       "1    9aa5587fe.png  0\n",
       "2    089ad62a7.png  0\n",
       "3    558aa7deb.png  0\n",
       "4    caa2fbd79.png  0\n",
       "..             ... ..\n",
       "789  115f93ecc.png  0\n",
       "790  16357b436.png  0\n",
       "791  664194d19.png  0\n",
       "792  995c7ab1e.png  0\n",
       "793  d0152bd7c.png  0\n",
       "\n",
       "[794 rows x 2 columns]"
      ]
     },
     "execution_count": 11,
     "metadata": {},
     "output_type": "execute_result"
    }
   ],
   "source": [
    "df_test = pd.DataFrame(os.listdir(os.getcwd() + \"/plant/data/test\"))\n",
    "df_test[1] = df_test.shape[0]*[0]\n",
    "# df_test[2] = df_test.shape[0]*[0]\n",
    "# df_test[0] = 'test/'+df_test[0]\n",
    "df_test"
   ]
  },
  {
   "cell_type": "code",
   "execution_count": 12,
   "id": "0b19e980-4bf4-46b7-a61c-4efe29e148c6",
   "metadata": {},
   "outputs": [
    {
     "name": "stderr",
     "output_type": "stream",
     "text": [
      "/home/kchoi/.conda/envs/pl/lib/python3.7/site-packages/pytorch_lightning/loggers/wandb.py:348: UserWarning: There is a wandb run already in progress and newly created instances of `WandbLogger` will reuse this run. If this is not desired, call `wandb.finish()` before instantiating `WandbLogger`.\n",
      "  \"There is a wandb run already in progress and newly created instances of `WandbLogger` will reuse\"\n",
      "/home/kchoi/.conda/envs/pl/lib/python3.7/site-packages/pytorch_lightning/trainer/connectors/callback_connector.py:152: LightningDeprecationWarning: Setting `Trainer(checkpoint_callback=[<pytorch_lightning.callbacks.model_checkpoint.ModelCheckpoint object at 0x7effafa07410>])` is deprecated in v1.5 and will be removed in v1.7. Please consider using `Trainer(enable_checkpointing=[<pytorch_lightning.callbacks.model_checkpoint.ModelCheckpoint object at 0x7effafa07410>])`.\n",
      "  f\"Setting `Trainer(checkpoint_callback={checkpoint_callback})` is deprecated in v1.5 and will \"\n",
      "/home/kchoi/.conda/envs/pl/lib/python3.7/site-packages/pytorch_lightning/trainer/connectors/callback_connector.py:97: LightningDeprecationWarning: Setting `Trainer(progress_bar_refresh_rate=1)` is deprecated in v1.5 and will be removed in v1.7. Please pass `pytorch_lightning.callbacks.progress.TQDMProgressBar` with `refresh_rate` directly to the Trainer's `callbacks` argument instead. Or, to disable the progress bar pass `enable_progress_bar = False` to the Trainer.\n",
      "  f\"Setting `Trainer(progress_bar_refresh_rate={progress_bar_refresh_rate})` is deprecated in v1.5 and\"\n",
      "GPU available: True, used: True\n",
      "TPU available: False, using: 0 TPU cores\n",
      "IPU available: False, using: 0 IPUs\n",
      "HPU available: False, using: 0 HPUs\n"
     ]
    }
   ],
   "source": [
    "wandb_logger = WandbLogger(project='wandb-lightning', job_type='train')\n",
    "# checkpoint_callback = pl.callbacks.ModelCheckpoint()\n",
    "tmpdir = os.getcwd() + '/plant/model_weights/'\n",
    "checkpoint_callback = ModelCheckpoint(dirpath=tmpdir, save_last=True, monitor=\"val_loss\",filename='sample-mnist-{epoch:02d}-{val_loss:.2f}')\n",
    "\n",
    "# Initialize a trainer\n",
    "trainer = pl.Trainer(max_epochs=50,\n",
    "                     progress_bar_refresh_rate=1, \n",
    "                     gpus=1, \n",
    "                     logger=wandb_logger,\n",
    "                     checkpoint_callback=[checkpoint_callback])"
   ]
  },
  {
   "cell_type": "code",
   "execution_count": 13,
   "id": "8e538bd4-77d7-433c-a7af-0b0f07fa9942",
   "metadata": {},
   "outputs": [
    {
     "name": "stderr",
     "output_type": "stream",
     "text": [
      "/home/kchoi/.conda/envs/pl/lib/python3.7/site-packages/torch/functional.py:568: UserWarning: torch.meshgrid: in an upcoming release, it will be required to pass the indexing argument. (Triggered internally at  ../aten/src/ATen/native/TensorShape.cpp:2228.)\n",
      "  return _VF.meshgrid(tensors, **kwargs)  # type: ignore[attr-defined]\n"
     ]
    }
   ],
   "source": [
    "model=PlantClassifier()\n",
    "pdm = PlantDataModule(train_df = df2, val_df = df2.iloc[:10], test_df = df2.iloc[:10], batch_size=32)\n",
    "pdm.setup()\n",
    "\n",
    "# trainer= pl.Trainer(max_epochs=10)\n"
   ]
  },
  {
   "cell_type": "code",
   "execution_count": 14,
   "id": "4db029a5-efb9-4da9-87b7-e4901bbf0e2b",
   "metadata": {},
   "outputs": [
    {
     "name": "stderr",
     "output_type": "stream",
     "text": [
      "LOCAL_RANK: 0 - CUDA_VISIBLE_DEVICES: [0]\n",
      "\n",
      "  | Name     | Type     | Params\n",
      "--------------------------------------\n",
      "0 | model    | MaxxVit  | 66.0 M\n",
      "1 | accuracy | Accuracy | 0     \n",
      "--------------------------------------\n",
      "66.0 M    Trainable params\n",
      "0         Non-trainable params\n",
      "66.0 M    Total params\n",
      "264.042   Total estimated model params size (MB)\n"
     ]
    },
    {
     "data": {
      "application/vnd.jupyter.widget-view+json": {
       "model_id": "",
       "version_major": 2,
       "version_minor": 0
      },
      "text/plain": [
       "Sanity Checking: 0it [00:00, ?it/s]"
      ]
     },
     "metadata": {},
     "output_type": "display_data"
    },
    {
     "name": "stderr",
     "output_type": "stream",
     "text": [
      "/home/kchoi/.conda/envs/pl/lib/python3.7/site-packages/pytorch_lightning/trainer/connectors/data_connector.py:245: PossibleUserWarning: The dataloader, val_dataloader 0, does not have many workers which may be a bottleneck. Consider increasing the value of the `num_workers` argument` (try 8 which is the number of cpus on this machine) in the `DataLoader` init to improve performance.\n",
      "  category=PossibleUserWarning,\n",
      "/home/kchoi/.conda/envs/pl/lib/python3.7/site-packages/pytorch_lightning/trainer/connectors/data_connector.py:245: PossibleUserWarning: The dataloader, train_dataloader, does not have many workers which may be a bottleneck. Consider increasing the value of the `num_workers` argument` (try 8 which is the number of cpus on this machine) in the `DataLoader` init to improve performance.\n",
      "  category=PossibleUserWarning,\n"
     ]
    },
    {
     "data": {
      "application/vnd.jupyter.widget-view+json": {
       "model_id": "73331fa379514a7cb196c2490413c9d3",
       "version_major": 2,
       "version_minor": 0
      },
      "text/plain": [
       "Training: 0it [00:00, ?it/s]"
      ]
     },
     "metadata": {},
     "output_type": "display_data"
    },
    {
     "data": {
      "application/vnd.jupyter.widget-view+json": {
       "model_id": "",
       "version_major": 2,
       "version_minor": 0
      },
      "text/plain": [
       "Validation: 0it [00:00, ?it/s]"
      ]
     },
     "metadata": {},
     "output_type": "display_data"
    },
    {
     "data": {
      "application/vnd.jupyter.widget-view+json": {
       "model_id": "",
       "version_major": 2,
       "version_minor": 0
      },
      "text/plain": [
       "Validation: 0it [00:00, ?it/s]"
      ]
     },
     "metadata": {},
     "output_type": "display_data"
    },
    {
     "name": "stderr",
     "output_type": "stream",
     "text": [
      "IOPub message rate exceeded.\n",
      "The Jupyter server will temporarily stop sending output\n",
      "to the client in order to avoid crashing it.\n",
      "To change this limit, set the config variable\n",
      "`--ServerApp.iopub_msg_rate_limit`.\n",
      "\n",
      "Current values:\n",
      "ServerApp.iopub_msg_rate_limit=1000.0 (msgs/sec)\n",
      "ServerApp.rate_limit_window=3.0 (secs)\n",
      "\n"
     ]
    },
    {
     "data": {
      "application/vnd.jupyter.widget-view+json": {
       "model_id": "",
       "version_major": 2,
       "version_minor": 0
      },
      "text/plain": [
       "Validation: 0it [00:00, ?it/s]"
      ]
     },
     "metadata": {},
     "output_type": "display_data"
    },
    {
     "name": "stderr",
     "output_type": "stream",
     "text": [
      "IOPub message rate exceeded.\n",
      "The Jupyter server will temporarily stop sending output\n",
      "to the client in order to avoid crashing it.\n",
      "To change this limit, set the config variable\n",
      "`--ServerApp.iopub_msg_rate_limit`.\n",
      "\n",
      "Current values:\n",
      "ServerApp.iopub_msg_rate_limit=1000.0 (msgs/sec)\n",
      "ServerApp.rate_limit_window=3.0 (secs)\n",
      "\n"
     ]
    },
    {
     "data": {
      "application/vnd.jupyter.widget-view+json": {
       "model_id": "",
       "version_major": 2,
       "version_minor": 0
      },
      "text/plain": [
       "Validation: 0it [00:00, ?it/s]"
      ]
     },
     "metadata": {},
     "output_type": "display_data"
    },
    {
     "data": {
      "application/vnd.jupyter.widget-view+json": {
       "model_id": "",
       "version_major": 2,
       "version_minor": 0
      },
      "text/plain": [
       "Validation: 0it [00:00, ?it/s]"
      ]
     },
     "metadata": {},
     "output_type": "display_data"
    },
    {
     "name": "stderr",
     "output_type": "stream",
     "text": [
      "IOPub message rate exceeded.\n",
      "The Jupyter server will temporarily stop sending output\n",
      "to the client in order to avoid crashing it.\n",
      "To change this limit, set the config variable\n",
      "`--ServerApp.iopub_msg_rate_limit`.\n",
      "\n",
      "Current values:\n",
      "ServerApp.iopub_msg_rate_limit=1000.0 (msgs/sec)\n",
      "ServerApp.rate_limit_window=3.0 (secs)\n",
      "\n"
     ]
    },
    {
     "data": {
      "application/vnd.jupyter.widget-view+json": {
       "model_id": "",
       "version_major": 2,
       "version_minor": 0
      },
      "text/plain": [
       "Validation: 0it [00:00, ?it/s]"
      ]
     },
     "metadata": {},
     "output_type": "display_data"
    },
    {
     "name": "stderr",
     "output_type": "stream",
     "text": [
      "IOPub message rate exceeded.\n",
      "The Jupyter server will temporarily stop sending output\n",
      "to the client in order to avoid crashing it.\n",
      "To change this limit, set the config variable\n",
      "`--ServerApp.iopub_msg_rate_limit`.\n",
      "\n",
      "Current values:\n",
      "ServerApp.iopub_msg_rate_limit=1000.0 (msgs/sec)\n",
      "ServerApp.rate_limit_window=3.0 (secs)\n",
      "\n"
     ]
    },
    {
     "data": {
      "application/vnd.jupyter.widget-view+json": {
       "model_id": "",
       "version_major": 2,
       "version_minor": 0
      },
      "text/plain": [
       "Validation: 0it [00:00, ?it/s]"
      ]
     },
     "metadata": {},
     "output_type": "display_data"
    },
    {
     "data": {
      "application/vnd.jupyter.widget-view+json": {
       "model_id": "",
       "version_major": 2,
       "version_minor": 0
      },
      "text/plain": [
       "Validation: 0it [00:00, ?it/s]"
      ]
     },
     "metadata": {},
     "output_type": "display_data"
    },
    {
     "name": "stderr",
     "output_type": "stream",
     "text": [
      "IOPub message rate exceeded.\n",
      "The Jupyter server will temporarily stop sending output\n",
      "to the client in order to avoid crashing it.\n",
      "To change this limit, set the config variable\n",
      "`--ServerApp.iopub_msg_rate_limit`.\n",
      "\n",
      "Current values:\n",
      "ServerApp.iopub_msg_rate_limit=1000.0 (msgs/sec)\n",
      "ServerApp.rate_limit_window=3.0 (secs)\n",
      "\n"
     ]
    },
    {
     "data": {
      "application/vnd.jupyter.widget-view+json": {
       "model_id": "",
       "version_major": 2,
       "version_minor": 0
      },
      "text/plain": [
       "Validation: 0it [00:00, ?it/s]"
      ]
     },
     "metadata": {},
     "output_type": "display_data"
    },
    {
     "data": {
      "application/vnd.jupyter.widget-view+json": {
       "model_id": "",
       "version_major": 2,
       "version_minor": 0
      },
      "text/plain": [
       "Validation: 0it [00:00, ?it/s]"
      ]
     },
     "metadata": {},
     "output_type": "display_data"
    },
    {
     "name": "stderr",
     "output_type": "stream",
     "text": [
      "IOPub message rate exceeded.\n",
      "The Jupyter server will temporarily stop sending output\n",
      "to the client in order to avoid crashing it.\n",
      "To change this limit, set the config variable\n",
      "`--ServerApp.iopub_msg_rate_limit`.\n",
      "\n",
      "Current values:\n",
      "ServerApp.iopub_msg_rate_limit=1000.0 (msgs/sec)\n",
      "ServerApp.rate_limit_window=3.0 (secs)\n",
      "\n"
     ]
    },
    {
     "data": {
      "application/vnd.jupyter.widget-view+json": {
       "model_id": "",
       "version_major": 2,
       "version_minor": 0
      },
      "text/plain": [
       "Validation: 0it [00:00, ?it/s]"
      ]
     },
     "metadata": {},
     "output_type": "display_data"
    },
    {
     "data": {
      "application/vnd.jupyter.widget-view+json": {
       "model_id": "",
       "version_major": 2,
       "version_minor": 0
      },
      "text/plain": [
       "Validation: 0it [00:00, ?it/s]"
      ]
     },
     "metadata": {},
     "output_type": "display_data"
    },
    {
     "name": "stderr",
     "output_type": "stream",
     "text": [
      "IOPub message rate exceeded.\n",
      "The Jupyter server will temporarily stop sending output\n",
      "to the client in order to avoid crashing it.\n",
      "To change this limit, set the config variable\n",
      "`--ServerApp.iopub_msg_rate_limit`.\n",
      "\n",
      "Current values:\n",
      "ServerApp.iopub_msg_rate_limit=1000.0 (msgs/sec)\n",
      "ServerApp.rate_limit_window=3.0 (secs)\n",
      "\n"
     ]
    },
    {
     "data": {
      "application/vnd.jupyter.widget-view+json": {
       "model_id": "",
       "version_major": 2,
       "version_minor": 0
      },
      "text/plain": [
       "Validation: 0it [00:00, ?it/s]"
      ]
     },
     "metadata": {},
     "output_type": "display_data"
    }
   ],
   "source": [
    "checkpoint_callback = ModelCheckpoint(dirpath=tmpdir, save_last=True, monitor=\"val_loss\",filename='sample-mnist-{epoch:02d}-{val_loss:.2f}')\n",
    "\n",
    "# Initialize a trainer\n",
    "# trainer = pl.Trainer(max_epochs=50,\n",
    "#                      progress_bar_refresh_rate=1, \n",
    "#                      gpus=1, \n",
    "#                      logger=wandb_logger,\n",
    "#                      checkpoint_callback=[checkpoint_callback])\n",
    "\n",
    "trainer.fit(model, pdm)\n",
    "trainer.save_checkpoint(\"./plant/model_weights/last.ckpt\")"
   ]
  },
  {
   "cell_type": "code",
   "execution_count": 15,
   "id": "926cba68-2113-4f61-bf66-7ee1c9e84f69",
   "metadata": {},
   "outputs": [
    {
     "name": "stderr",
     "output_type": "stream",
     "text": [
      "/home/kchoi/.conda/envs/pl/lib/python3.7/site-packages/pytorch_lightning/trainer/trainer.py:1445: UserWarning: `.predict(ckpt_path=None)` was called without a model. The best model of the previous `fit` call will be used. You can pass `predict(ckpt_path='best')` to use and best model checkpoint and avoid this warning or `ckpt_path=trainer.checkpoint_callback.last_model_path` to use the last model.\n",
      "  f\"`.{fn}(ckpt_path=None)` was called without a model.\"\n",
      "Restoring states from the checkpoint path at /home2/kchoi/image/stat_final/38gafdhy/checkpoints/epoch=49-step=37150.ckpt\n",
      "LOCAL_RANK: 0 - CUDA_VISIBLE_DEVICES: [0]\n",
      "Loaded model weights from checkpoint at /home2/kchoi/image/stat_final/38gafdhy/checkpoints/epoch=49-step=37150.ckpt\n"
     ]
    },
    {
     "data": {
      "application/vnd.jupyter.widget-view+json": {
       "model_id": "ff6dea8611654b45a4d9ee63d555e600",
       "version_major": 2,
       "version_minor": 0
      },
      "text/plain": [
       "Predicting: 743it [00:00, ?it/s]"
      ]
     },
     "metadata": {},
     "output_type": "display_data"
    }
   ],
   "source": [
    "test_result = trainer.predict(dataloaders=test_loader)\n",
    "# pdm.test_dataloader()"
   ]
  },
  {
   "cell_type": "code",
   "execution_count": 16,
   "id": "464cd34e-de6c-4910-9295-f8772784b4de",
   "metadata": {},
   "outputs": [
    {
     "data": {
      "text/plain": [
       "24285184"
      ]
     },
     "execution_count": 16,
     "metadata": {},
     "output_type": "execute_result"
    }
   ],
   "source": [
    "np.prod(np.array([32, 11, 7, 11, 7, 128]))"
   ]
  },
  {
   "cell_type": "code",
   "execution_count": 17,
   "id": "2508ff68-5174-4fd4-9a74-baf2c1f476d1",
   "metadata": {},
   "outputs": [
    {
     "data": {
      "text/plain": [
       "1.1065947039973014"
      ]
     },
     "execution_count": 17,
     "metadata": {},
     "output_type": "execute_result"
    }
   ],
   "source": [
    "26873856/24285184"
   ]
  },
  {
   "cell_type": "code",
   "execution_count": 18,
   "id": "4a7092cc-01f7-4457-acde-dc11e586a848",
   "metadata": {},
   "outputs": [],
   "source": [
    "test_result_list = np.hstack(pd.Series(test_result).apply(lambda x : x.tolist()))"
   ]
  },
  {
   "cell_type": "code",
   "execution_count": 19,
   "id": "bad6e768-3879-4a3c-a646-860502abc1f6",
   "metadata": {},
   "outputs": [
    {
     "data": {
      "text/html": [
       "<div>\n",
       "<style scoped>\n",
       "    .dataframe tbody tr th:only-of-type {\n",
       "        vertical-align: middle;\n",
       "    }\n",
       "\n",
       "    .dataframe tbody tr th {\n",
       "        vertical-align: top;\n",
       "    }\n",
       "\n",
       "    .dataframe thead th {\n",
       "        text-align: right;\n",
       "    }\n",
       "</style>\n",
       "<table border=\"1\" class=\"dataframe\">\n",
       "  <thead>\n",
       "    <tr style=\"text-align: right;\">\n",
       "      <th></th>\n",
       "      <th>0</th>\n",
       "      <th>1</th>\n",
       "    </tr>\n",
       "  </thead>\n",
       "  <tbody>\n",
       "    <tr>\n",
       "      <th>0</th>\n",
       "      <td>2406d6c99.png</td>\n",
       "      <td>Shepherds Purse</td>\n",
       "    </tr>\n",
       "    <tr>\n",
       "      <th>1</th>\n",
       "      <td>9aa5587fe.png</td>\n",
       "      <td>Loose Silky-bent</td>\n",
       "    </tr>\n",
       "    <tr>\n",
       "      <th>2</th>\n",
       "      <td>089ad62a7.png</td>\n",
       "      <td>Common Chickweed</td>\n",
       "    </tr>\n",
       "    <tr>\n",
       "      <th>3</th>\n",
       "      <td>558aa7deb.png</td>\n",
       "      <td>Black-grass</td>\n",
       "    </tr>\n",
       "    <tr>\n",
       "      <th>4</th>\n",
       "      <td>caa2fbd79.png</td>\n",
       "      <td>Common Chickweed</td>\n",
       "    </tr>\n",
       "    <tr>\n",
       "      <th>...</th>\n",
       "      <td>...</td>\n",
       "      <td>...</td>\n",
       "    </tr>\n",
       "    <tr>\n",
       "      <th>789</th>\n",
       "      <td>115f93ecc.png</td>\n",
       "      <td>Loose Silky-bent</td>\n",
       "    </tr>\n",
       "    <tr>\n",
       "      <th>790</th>\n",
       "      <td>16357b436.png</td>\n",
       "      <td>Loose Silky-bent</td>\n",
       "    </tr>\n",
       "    <tr>\n",
       "      <th>791</th>\n",
       "      <td>664194d19.png</td>\n",
       "      <td>Small-flowered Cranesbill</td>\n",
       "    </tr>\n",
       "    <tr>\n",
       "      <th>792</th>\n",
       "      <td>995c7ab1e.png</td>\n",
       "      <td>Common wheat</td>\n",
       "    </tr>\n",
       "    <tr>\n",
       "      <th>793</th>\n",
       "      <td>d0152bd7c.png</td>\n",
       "      <td>Fat Hen</td>\n",
       "    </tr>\n",
       "  </tbody>\n",
       "</table>\n",
       "<p>794 rows × 2 columns</p>\n",
       "</div>"
      ],
      "text/plain": [
       "                 0                          1\n",
       "0    2406d6c99.png            Shepherds Purse\n",
       "1    9aa5587fe.png           Loose Silky-bent\n",
       "2    089ad62a7.png           Common Chickweed\n",
       "3    558aa7deb.png                Black-grass\n",
       "4    caa2fbd79.png           Common Chickweed\n",
       "..             ...                        ...\n",
       "789  115f93ecc.png           Loose Silky-bent\n",
       "790  16357b436.png           Loose Silky-bent\n",
       "791  664194d19.png  Small-flowered Cranesbill\n",
       "792  995c7ab1e.png               Common wheat\n",
       "793  d0152bd7c.png                    Fat Hen\n",
       "\n",
       "[794 rows x 2 columns]"
      ]
     },
     "execution_count": 19,
     "metadata": {},
     "output_type": "execute_result"
    }
   ],
   "source": [
    "df_test[1] = pd.Series(test_result_list).apply(lambda x : idx_to_class[x])\n",
    "df_test"
   ]
  },
  {
   "cell_type": "code",
   "execution_count": 20,
   "id": "e3f9b69b-ffbc-411c-84ce-fe524a2fca0f",
   "metadata": {},
   "outputs": [],
   "source": [
    "df_test.columns = ['file','species']\n",
    "df_test.to_csv('test_sample4.csv', index=False)"
   ]
  },
  {
   "cell_type": "code",
   "execution_count": 11,
   "id": "69bce048-8b8d-4b44-921f-e8b6fe40e9af",
   "metadata": {},
   "outputs": [
    {
     "name": "stdout",
     "output_type": "stream",
     "text": [
      "/home2/kchoi/image/plant\n"
     ]
    }
   ],
   "source": [
    "cd /home2/kchoi/image/plant"
   ]
  },
  {
   "cell_type": "code",
   "execution_count": 19,
   "id": "e1c6d982-5eaa-4b09-9cb8-6aa1c7619e32",
   "metadata": {},
   "outputs": [
    {
     "name": "stdout",
     "output_type": "stream",
     "text": [
      "/home/kchoi/.conda/envs/pl/lib/python3.7/site-packages/requests/__init__.py:104: RequestsDependencyWarning: urllib3 (1.26.9) or chardet (5.1.0)/charset_normalizer (2.0.4) doesn't match a supported version!\n",
      "  RequestsDependencyWarning)\n",
      "2023-04-22 04:56:13.822649: I tensorflow/stream_executor/platform/default/dso_loader.cc:49] Successfully opened dynamic library libcudart.so.10.1\n",
      "/home/kchoi/.conda/envs/pl/lib/python3.7/site-packages/requests/__init__.py:104: RequestsDependencyWarning: urllib3 (1.26.9) or chardet (5.1.0)/charset_normalizer (2.0.4) doesn't match a supported version!\n",
      "  RequestsDependencyWarning)\n",
      "\u001b[34m\u001b[1mwandb\u001b[0m: Currently logged in as: \u001b[33mkchoi1230\u001b[0m. Use \u001b[1m`wandb login --relogin`\u001b[0m to force relogin\n",
      "\u001b[34m\u001b[1mwandb\u001b[0m: Tracking run with wandb version 0.15.0\n",
      "\u001b[34m\u001b[1mwandb\u001b[0m: Run data is saved locally in \u001b[35m\u001b[1m/home2/kchoi/image/plant/wandb/run-20230422_045617-yv5ksp4t\u001b[0m\n",
      "\u001b[34m\u001b[1mwandb\u001b[0m: Run \u001b[1m`wandb offline`\u001b[0m to turn off syncing.\n",
      "\u001b[34m\u001b[1mwandb\u001b[0m: Syncing run \u001b[33mwandering-gorge-55\u001b[0m\n",
      "\u001b[34m\u001b[1mwandb\u001b[0m: ⭐️ View project at \u001b[34m\u001b[4mhttps://wandb.ai/kchoi1230/stat_final\u001b[0m\n",
      "\u001b[34m\u001b[1mwandb\u001b[0m: 🚀 View run at \u001b[34m\u001b[4mhttps://wandb.ai/kchoi1230/stat_final/runs/yv5ksp4t\u001b[0m\n",
      "/home/kchoi/.conda/envs/pl/lib/python3.7/site-packages/pytorch_lightning/loggers/wandb.py:348: UserWarning: There is a wandb run already in progress and newly created instances of `WandbLogger` will reuse this run. If this is not desired, call `wandb.finish()` before instantiating `WandbLogger`.\n",
      "  \"There is a wandb run already in progress and newly created instances of `WandbLogger` will reuse\"\n",
      "/home/kchoi/.conda/envs/pl/lib/python3.7/site-packages/pytorch_lightning/trainer/connectors/callback_connector.py:152: LightningDeprecationWarning: Setting `Trainer(checkpoint_callback=[<pytorch_lightning.callbacks.model_checkpoint.ModelCheckpoint object at 0x7f7a3f59e710>])` is deprecated in v1.5 and will be removed in v1.7. Please consider using `Trainer(enable_checkpointing=[<pytorch_lightning.callbacks.model_checkpoint.ModelCheckpoint object at 0x7f7a3f59e710>])`.\n",
      "  f\"Setting `Trainer(checkpoint_callback={checkpoint_callback})` is deprecated in v1.5 and will \"\n",
      "/home/kchoi/.conda/envs/pl/lib/python3.7/site-packages/pytorch_lightning/trainer/connectors/callback_connector.py:97: LightningDeprecationWarning: Setting `Trainer(progress_bar_refresh_rate=1)` is deprecated in v1.5 and will be removed in v1.7. Please pass `pytorch_lightning.callbacks.progress.TQDMProgressBar` with `refresh_rate` directly to the Trainer's `callbacks` argument instead. Or, to disable the progress bar pass `enable_progress_bar = False` to the Trainer.\n",
      "  f\"Setting `Trainer(progress_bar_refresh_rate={progress_bar_refresh_rate})` is deprecated in v1.5 and\"\n",
      "GPU available: True, used: True\n",
      "TPU available: False, using: 0 TPU cores\n",
      "IPU available: False, using: 0 IPUs\n",
      "HPU available: False, using: 0 HPUs\n",
      "LOCAL_RANK: 0 - CUDA_VISIBLE_DEVICES: [0]\n",
      "\n",
      "  | Name     | Type         | Params\n",
      "------------------------------------------\n",
      "0 | model    | EfficientNet | 17.6 M\n",
      "1 | accuracy | Accuracy     | 0     \n",
      "------------------------------------------\n",
      "17.6 M    Trainable params\n",
      "0         Non-trainable params\n",
      "17.6 M    Total params\n",
      "70.281    Total estimated model params size (MB)\n",
      "Sanity Checking: 0it [00:00, ?it/s]/home/kchoi/.conda/envs/pl/lib/python3.7/site-packages/pytorch_lightning/trainer/connectors/data_connector.py:245: PossibleUserWarning: The dataloader, val_dataloader 0, does not have many workers which may be a bottleneck. Consider increasing the value of the `num_workers` argument` (try 8 which is the number of cpus on this machine) in the `DataLoader` init to improve performance.\n",
      "  category=PossibleUserWarning,\n",
      "/home/kchoi/.conda/envs/pl/lib/python3.7/site-packages/pytorch_lightning/trainer/connectors/data_connector.py:245: PossibleUserWarning: The dataloader, train_dataloader, does not have many workers which may be a bottleneck. Consider increasing the value of the `num_workers` argument` (try 8 which is the number of cpus on this machine) in the `DataLoader` init to improve performance.\n",
      "  category=PossibleUserWarning,\n",
      "Epoch 0:  30%|███▎       | 222/744 [02:01<04:45,  1.83it/s, loss=0.415, v_num=4]Traceback (most recent call last):\n",
      "  File \"main.py\", line 144, in <module>\n",
      "    main(args)\n",
      "  File \"main.py\", line 128, in main\n",
      "    trainer.fit(model, pdm)\n",
      "  File \"/home/kchoi/.conda/envs/pl/lib/python3.7/site-packages/pytorch_lightning/trainer/trainer.py\", line 769, in fit\n",
      "    self._fit_impl, model, train_dataloaders, val_dataloaders, datamodule, ckpt_path\n",
      "  File \"/home/kchoi/.conda/envs/pl/lib/python3.7/site-packages/pytorch_lightning/trainer/trainer.py\", line 721, in _call_and_handle_interrupt\n",
      "    return trainer_fn(*args, **kwargs)\n",
      "  File \"/home/kchoi/.conda/envs/pl/lib/python3.7/site-packages/pytorch_lightning/trainer/trainer.py\", line 809, in _fit_impl\n",
      "    results = self._run(model, ckpt_path=self.ckpt_path)\n",
      "  File \"/home/kchoi/.conda/envs/pl/lib/python3.7/site-packages/pytorch_lightning/trainer/trainer.py\", line 1234, in _run\n",
      "    results = self._run_stage()\n",
      "  File \"/home/kchoi/.conda/envs/pl/lib/python3.7/site-packages/pytorch_lightning/trainer/trainer.py\", line 1321, in _run_stage\n",
      "    return self._run_train()\n",
      "  File \"/home/kchoi/.conda/envs/pl/lib/python3.7/site-packages/pytorch_lightning/trainer/trainer.py\", line 1351, in _run_train\n",
      "    self.fit_loop.run()\n",
      "  File \"/home/kchoi/.conda/envs/pl/lib/python3.7/site-packages/pytorch_lightning/loops/base.py\", line 204, in run\n",
      "    self.advance(*args, **kwargs)\n",
      "  File \"/home/kchoi/.conda/envs/pl/lib/python3.7/site-packages/pytorch_lightning/loops/fit_loop.py\", line 268, in advance\n",
      "    self._outputs = self.epoch_loop.run(self._data_fetcher)\n",
      "  File \"/home/kchoi/.conda/envs/pl/lib/python3.7/site-packages/pytorch_lightning/loops/base.py\", line 204, in run\n",
      "    self.advance(*args, **kwargs)\n",
      "  File \"/home/kchoi/.conda/envs/pl/lib/python3.7/site-packages/pytorch_lightning/loops/epoch/training_epoch_loop.py\", line 171, in advance\n",
      "    batch = next(data_fetcher)\n",
      "  File \"/home/kchoi/.conda/envs/pl/lib/python3.7/site-packages/pytorch_lightning/utilities/fetching.py\", line 184, in __next__\n",
      "    return self.fetching_function()\n",
      "  File \"/home/kchoi/.conda/envs/pl/lib/python3.7/site-packages/pytorch_lightning/utilities/fetching.py\", line 259, in fetching_function\n",
      "    self._fetch_next_batch(self.dataloader_iter)\n",
      "  File \"/home/kchoi/.conda/envs/pl/lib/python3.7/site-packages/pytorch_lightning/utilities/fetching.py\", line 273, in _fetch_next_batch\n",
      "    batch = next(iterator)\n",
      "  File \"/home/kchoi/.conda/envs/pl/lib/python3.7/site-packages/pytorch_lightning/trainer/supporters.py\", line 553, in __next__\n",
      "    return self.request_next_batch(self.loader_iters)\n",
      "  File \"/home/kchoi/.conda/envs/pl/lib/python3.7/site-packages/pytorch_lightning/trainer/supporters.py\", line 565, in request_next_batch\n",
      "    return apply_to_collection(loader_iters, Iterator, next)\n",
      "  File \"/home/kchoi/.conda/envs/pl/lib/python3.7/site-packages/pytorch_lightning/utilities/apply_func.py\", line 99, in apply_to_collection\n",
      "    return function(data, *args, **kwargs)\n",
      "  File \"/home/kchoi/.conda/envs/pl/lib/python3.7/site-packages/torch/utils/data/dataloader.py\", line 530, in __next__\n",
      "    data = self._next_data()\n",
      "  File \"/home/kchoi/.conda/envs/pl/lib/python3.7/site-packages/torch/utils/data/dataloader.py\", line 570, in _next_data\n",
      "    data = self._dataset_fetcher.fetch(index)  # may raise StopIteration\n",
      "  File \"/home/kchoi/.conda/envs/pl/lib/python3.7/site-packages/torch/utils/data/_utils/fetch.py\", line 49, in fetch\n",
      "    data = [self.dataset[idx] for idx in possibly_batched_index]\n",
      "  File \"/home/kchoi/.conda/envs/pl/lib/python3.7/site-packages/torch/utils/data/_utils/fetch.py\", line 49, in <listcomp>\n",
      "    data = [self.dataset[idx] for idx in possibly_batched_index]\n",
      "  File \"/home2/kchoi/image/plant/data_plant.py\", line 40, in __getitem__\n",
      "    image = Image.open(fullpath).convert('RGB')\n",
      "  File \"/home/kchoi/.conda/envs/pl/lib/python3.7/site-packages/PIL/Image.py\", line 3068, in open\n",
      "    fp = builtins.open(filename, \"rb\")\n",
      "IsADirectoryError: [Errno 21] Is a directory: '/home2/kchoi/image/plant/data/train/Black-grass/.ipynb_checkpoints'\n",
      "\u001b[34m\u001b[1mwandb\u001b[0m: Waiting for W&B process to finish... \u001b[31m(failed 1).\u001b[0m Press Control-C to abort syncing.\n",
      "\u001b[34m\u001b[1mwandb\u001b[0m: 🚀 View run \u001b[33mwandering-gorge-55\u001b[0m at: \u001b[34m\u001b[4mhttps://wandb.ai/kchoi1230/stat_final/runs/yv5ksp4t\u001b[0m\n",
      "\u001b[34m\u001b[1mwandb\u001b[0m: Synced 6 W&B file(s), 0 media file(s), 0 artifact file(s) and 0 other file(s)\n",
      "\u001b[34m\u001b[1mwandb\u001b[0m: Find logs at: \u001b[35m\u001b[1m./wandb/run-20230422_045617-yv5ksp4t/logs\u001b[0m\n"
     ]
    }
   ],
   "source": [
    "!python main.py --model efficientnet_b4 --epochs 50 --wandb True"
   ]
  },
  {
   "cell_type": "code",
   "execution_count": null,
   "id": "b23a147c-67c9-4f9d-8e48-4415101cdda4",
   "metadata": {},
   "outputs": [],
   "source": []
  },
  {
   "cell_type": "code",
   "execution_count": 23,
   "id": "cb085b77-7cbd-4009-bb9e-8f134ed5fde0",
   "metadata": {},
   "outputs": [
    {
     "name": "stderr",
     "output_type": "stream",
     "text": [
      "GPU available: True, used: False\n",
      "TPU available: False, using: 0 TPU cores\n",
      "IPU available: False, using: 0 IPUs\n",
      "HPU available: False, using: 0 HPUs\n",
      "Restoring states from the checkpoint path at ./plant/model_weights/last.ckpt\n",
      "/home/kchoi/.conda/envs/pl/lib/python3.7/site-packages/pytorch_lightning/callbacks/model_checkpoint.py:343: UserWarning: The dirpath has changed from '/home2/kchoi/image/stat_final/3nw0uexd/checkpoints' to '/home2/kchoi/image/lightning_logs/version_1/checkpoints', therefore `best_model_score`, `kth_best_model_path`, `kth_value`, `last_model_path` and `best_k_models` won't be reloaded. Only `best_model_path` will be reloaded.\n",
      "  f\"The dirpath has changed from {dirpath_from_ckpt!r} to {self.dirpath!r},\"\n",
      "\n",
      "  | Name     | Type         | Params\n",
      "------------------------------------------\n",
      "0 | model    | EfficientNet | 17.5 M\n",
      "1 | accuracy | Accuracy     | 0     \n",
      "------------------------------------------\n",
      "17.5 M    Trainable params\n",
      "0         Non-trainable params\n",
      "17.5 M    Total params\n",
      "70.194    Total estimated model params size (MB)\n",
      "Restored all states from the checkpoint file at ./plant/model_weights/last.ckpt\n"
     ]
    },
    {
     "data": {
      "application/vnd.jupyter.widget-view+json": {
       "model_id": "",
       "version_major": 2,
       "version_minor": 0
      },
      "text/plain": [
       "Sanity Checking: 0it [00:00, ?it/s]"
      ]
     },
     "metadata": {},
     "output_type": "display_data"
    },
    {
     "name": "stderr",
     "output_type": "stream",
     "text": [
      "/home/kchoi/.conda/envs/pl/lib/python3.7/site-packages/pytorch_lightning/trainer/connectors/data_connector.py:245: PossibleUserWarning: The dataloader, val_dataloader 0, does not have many workers which may be a bottleneck. Consider increasing the value of the `num_workers` argument` (try 8 which is the number of cpus on this machine) in the `DataLoader` init to improve performance.\n",
      "  category=PossibleUserWarning,\n",
      "/home/kchoi/.conda/envs/pl/lib/python3.7/site-packages/pytorch_lightning/trainer/connectors/data_connector.py:245: PossibleUserWarning: The dataloader, train_dataloader, does not have many workers which may be a bottleneck. Consider increasing the value of the `num_workers` argument` (try 8 which is the number of cpus on this machine) in the `DataLoader` init to improve performance.\n",
      "  category=PossibleUserWarning,\n"
     ]
    },
    {
     "data": {
      "application/vnd.jupyter.widget-view+json": {
       "model_id": "c2c3bd48d6154041831733a954a66420",
       "version_major": 2,
       "version_minor": 0
      },
      "text/plain": [
       "Training: 668it [00:00, ?it/s]"
      ]
     },
     "metadata": {},
     "output_type": "display_data"
    },
    {
     "data": {
      "application/vnd.jupyter.widget-view+json": {
       "model_id": "",
       "version_major": 2,
       "version_minor": 0
      },
      "text/plain": [
       "Validation: 0it [00:00, ?it/s]"
      ]
     },
     "metadata": {},
     "output_type": "display_data"
    },
    {
     "data": {
      "application/vnd.jupyter.widget-view+json": {
       "model_id": "",
       "version_major": 2,
       "version_minor": 0
      },
      "text/plain": [
       "Validation: 0it [00:00, ?it/s]"
      ]
     },
     "metadata": {},
     "output_type": "display_data"
    },
    {
     "data": {
      "application/vnd.jupyter.widget-view+json": {
       "model_id": "",
       "version_major": 2,
       "version_minor": 0
      },
      "text/plain": [
       "Validation: 0it [00:00, ?it/s]"
      ]
     },
     "metadata": {},
     "output_type": "display_data"
    },
    {
     "data": {
      "application/vnd.jupyter.widget-view+json": {
       "model_id": "",
       "version_major": 2,
       "version_minor": 0
      },
      "text/plain": [
       "Validation: 0it [00:00, ?it/s]"
      ]
     },
     "metadata": {},
     "output_type": "display_data"
    },
    {
     "data": {
      "application/vnd.jupyter.widget-view+json": {
       "model_id": "",
       "version_major": 2,
       "version_minor": 0
      },
      "text/plain": [
       "Validation: 0it [00:00, ?it/s]"
      ]
     },
     "metadata": {},
     "output_type": "display_data"
    }
   ],
   "source": [
    "pdm = PlantDataModule(train_df = df_val, val_df = df_val, test_df = df_val, batch_size=32)\n",
    "pdm.setup()\n",
    "\n",
    "trainer = pl.Trainer(max_epochs=55, resume_from_checkpoint=\"./plant/model_weights/last.ckpt\")\n",
    "trainer.fit(model, pdm)\n"
   ]
  },
  {
   "cell_type": "code",
   "execution_count": 27,
   "id": "ba531507-bbcd-4808-8e8e-7bbe9052b208",
   "metadata": {},
   "outputs": [
    {
     "name": "stderr",
     "output_type": "stream",
     "text": [
      "/home/kchoi/.conda/envs/pl/lib/python3.7/site-packages/pytorch_lightning/trainer/trainer.py:1445: UserWarning: `.predict(ckpt_path=None)` was called without a model. The best model of the previous `fit` call will be used. You can pass `predict(ckpt_path='best')` to use and best model checkpoint and avoid this warning or `ckpt_path=trainer.checkpoint_callback.last_model_path` to use the last model.\n",
      "  f\"`.{fn}(ckpt_path=None)` was called without a model.\"\n",
      "Restoring states from the checkpoint path at /home2/kchoi/image/lightning_logs/version_1/checkpoints/epoch=54-step=33775.ckpt\n",
      "Loaded model weights from checkpoint at /home2/kchoi/image/lightning_logs/version_1/checkpoints/epoch=54-step=33775.ckpt\n"
     ]
    },
    {
     "data": {
      "application/vnd.jupyter.widget-view+json": {
       "model_id": "5316d7417ea04f9c8aa9195634e51a66",
       "version_major": 2,
       "version_minor": 0
      },
      "text/plain": [
       "Predicting: 75it [00:00, ?it/s]"
      ]
     },
     "metadata": {},
     "output_type": "display_data"
    }
   ],
   "source": [
    "test_result = trainer.predict(dataloaders=test_loader)\n",
    "# pdm.test_dataloader()\n",
    "test_result_list = np.hstack(pd.Series(test_result).apply(lambda x : x.tolist()))\n",
    "df_test['species'] = pd.Series(test_result_list).apply(lambda x : idx_to_class[x])\n",
    "# df_test.columns = ['file','species']\n",
    "# df_test.to_csv('test_sample2.csv', index=False)"
   ]
  },
  {
   "cell_type": "code",
   "execution_count": 33,
   "id": "8aa16444-959d-4573-aaf7-ad51727b0601",
   "metadata": {},
   "outputs": [],
   "source": [
    "df_test.iloc[:,:-1].to_csv('test_sample2.csv', index=False)"
   ]
  },
  {
   "cell_type": "code",
   "execution_count": 39,
   "id": "299c28dd-bb50-46b3-b2ea-2623a1aec23f",
   "metadata": {},
   "outputs": [
    {
     "data": {
      "text/html": [
       "<div>\n",
       "<style scoped>\n",
       "    .dataframe tbody tr th:only-of-type {\n",
       "        vertical-align: middle;\n",
       "    }\n",
       "\n",
       "    .dataframe tbody tr th {\n",
       "        vertical-align: top;\n",
       "    }\n",
       "\n",
       "    .dataframe thead th {\n",
       "        text-align: right;\n",
       "    }\n",
       "</style>\n",
       "<table border=\"1\" class=\"dataframe\">\n",
       "  <thead>\n",
       "    <tr style=\"text-align: right;\">\n",
       "      <th></th>\n",
       "      <th>file</th>\n",
       "      <th>species</th>\n",
       "      <th>1</th>\n",
       "    </tr>\n",
       "  </thead>\n",
       "  <tbody>\n",
       "    <tr>\n",
       "      <th>36</th>\n",
       "      <td>c6c8d4ba0.png</td>\n",
       "      <td>Black-grass</td>\n",
       "      <td>Black-grass</td>\n",
       "    </tr>\n",
       "    <tr>\n",
       "      <th>56</th>\n",
       "      <td>b0acaff4a.png</td>\n",
       "      <td>Loose Silky-bent</td>\n",
       "      <td>Loose Silky-bent</td>\n",
       "    </tr>\n",
       "    <tr>\n",
       "      <th>150</th>\n",
       "      <td>e82017baa.png</td>\n",
       "      <td>Black-grass</td>\n",
       "      <td>Black-grass</td>\n",
       "    </tr>\n",
       "    <tr>\n",
       "      <th>208</th>\n",
       "      <td>6a47821f9.png</td>\n",
       "      <td>Black-grass</td>\n",
       "      <td>Black-grass</td>\n",
       "    </tr>\n",
       "    <tr>\n",
       "      <th>265</th>\n",
       "      <td>b2706e2b3.png</td>\n",
       "      <td>Black-grass</td>\n",
       "      <td>Black-grass</td>\n",
       "    </tr>\n",
       "    <tr>\n",
       "      <th>486</th>\n",
       "      <td>fba8fc78a.png</td>\n",
       "      <td>Loose Silky-bent</td>\n",
       "      <td>Loose Silky-bent</td>\n",
       "    </tr>\n",
       "    <tr>\n",
       "      <th>681</th>\n",
       "      <td>d689256be.png</td>\n",
       "      <td>Black-grass</td>\n",
       "      <td>Black-grass</td>\n",
       "    </tr>\n",
       "    <tr>\n",
       "      <th>770</th>\n",
       "      <td>00d090cde.png</td>\n",
       "      <td>Black-grass</td>\n",
       "      <td>Black-grass</td>\n",
       "    </tr>\n",
       "  </tbody>\n",
       "</table>\n",
       "</div>"
      ],
      "text/plain": [
       "              file           species                 1\n",
       "36   c6c8d4ba0.png       Black-grass       Black-grass\n",
       "56   b0acaff4a.png  Loose Silky-bent  Loose Silky-bent\n",
       "150  e82017baa.png       Black-grass       Black-grass\n",
       "208  6a47821f9.png       Black-grass       Black-grass\n",
       "265  b2706e2b3.png       Black-grass       Black-grass\n",
       "486  fba8fc78a.png  Loose Silky-bent  Loose Silky-bent\n",
       "681  d689256be.png       Black-grass       Black-grass\n",
       "770  00d090cde.png       Black-grass       Black-grass"
      ]
     },
     "execution_count": 39,
     "metadata": {},
     "output_type": "execute_result"
    }
   ],
   "source": [
    "df_test[df_test['species'] != df_test2['species']]"
   ]
  },
  {
   "cell_type": "code",
   "execution_count": 40,
   "id": "625281aa-2efa-4263-ae92-97404f87a822",
   "metadata": {},
   "outputs": [
    {
     "data": {
      "text/html": [
       "<div>\n",
       "<style scoped>\n",
       "    .dataframe tbody tr th:only-of-type {\n",
       "        vertical-align: middle;\n",
       "    }\n",
       "\n",
       "    .dataframe tbody tr th {\n",
       "        vertical-align: top;\n",
       "    }\n",
       "\n",
       "    .dataframe thead th {\n",
       "        text-align: right;\n",
       "    }\n",
       "</style>\n",
       "<table border=\"1\" class=\"dataframe\">\n",
       "  <thead>\n",
       "    <tr style=\"text-align: right;\">\n",
       "      <th></th>\n",
       "      <th>file</th>\n",
       "      <th>species</th>\n",
       "    </tr>\n",
       "  </thead>\n",
       "  <tbody>\n",
       "    <tr>\n",
       "      <th>36</th>\n",
       "      <td>c6c8d4ba0.png</td>\n",
       "      <td>Loose Silky-bent</td>\n",
       "    </tr>\n",
       "    <tr>\n",
       "      <th>56</th>\n",
       "      <td>b0acaff4a.png</td>\n",
       "      <td>Black-grass</td>\n",
       "    </tr>\n",
       "    <tr>\n",
       "      <th>150</th>\n",
       "      <td>e82017baa.png</td>\n",
       "      <td>Loose Silky-bent</td>\n",
       "    </tr>\n",
       "    <tr>\n",
       "      <th>208</th>\n",
       "      <td>6a47821f9.png</td>\n",
       "      <td>Loose Silky-bent</td>\n",
       "    </tr>\n",
       "    <tr>\n",
       "      <th>265</th>\n",
       "      <td>b2706e2b3.png</td>\n",
       "      <td>Common wheat</td>\n",
       "    </tr>\n",
       "    <tr>\n",
       "      <th>486</th>\n",
       "      <td>fba8fc78a.png</td>\n",
       "      <td>Black-grass</td>\n",
       "    </tr>\n",
       "    <tr>\n",
       "      <th>681</th>\n",
       "      <td>d689256be.png</td>\n",
       "      <td>Loose Silky-bent</td>\n",
       "    </tr>\n",
       "    <tr>\n",
       "      <th>770</th>\n",
       "      <td>00d090cde.png</td>\n",
       "      <td>Loose Silky-bent</td>\n",
       "    </tr>\n",
       "  </tbody>\n",
       "</table>\n",
       "</div>"
      ],
      "text/plain": [
       "              file           species\n",
       "36   c6c8d4ba0.png  Loose Silky-bent\n",
       "56   b0acaff4a.png       Black-grass\n",
       "150  e82017baa.png  Loose Silky-bent\n",
       "208  6a47821f9.png  Loose Silky-bent\n",
       "265  b2706e2b3.png      Common wheat\n",
       "486  fba8fc78a.png       Black-grass\n",
       "681  d689256be.png  Loose Silky-bent\n",
       "770  00d090cde.png  Loose Silky-bent"
      ]
     },
     "execution_count": 40,
     "metadata": {},
     "output_type": "execute_result"
    }
   ],
   "source": [
    "df_test2[df_test['species'] != df_test2['species']]"
   ]
  },
  {
   "cell_type": "code",
   "execution_count": 32,
   "id": "9d6966d5-e0be-46e8-86c4-a9afa48f6d0e",
   "metadata": {},
   "outputs": [],
   "source": [
    "df_test.to_csv('test_sample2.csv', index=False)"
   ]
  },
  {
   "cell_type": "code",
   "execution_count": 12,
   "id": "da010c71-4101-425a-8a13-67bd04a1f2c8",
   "metadata": {},
   "outputs": [
    {
     "data": {
      "text/html": [
       "Waiting for W&B process to finish... <strong style=\"color:green\">(success).</strong>"
      ],
      "text/plain": [
       "<IPython.core.display.HTML object>"
      ]
     },
     "metadata": {},
     "output_type": "display_data"
    },
    {
     "data": {
      "application/vnd.jupyter.widget-view+json": {
       "model_id": "",
       "version_major": 2,
       "version_minor": 0
      },
      "text/plain": [
       "VBox(children=(Label(value='0.000 MB of 0.000 MB uploaded (0.000 MB deduped)\\r'), FloatProgress(value=1.0, max…"
      ]
     },
     "metadata": {},
     "output_type": "display_data"
    },
    {
     "name": "stderr",
     "output_type": "stream",
     "text": [
      "/home/kchoi/.conda/envs/pl/lib/python3.7/site-packages/requests/__init__.py:104: RequestsDependencyWarning: urllib3 (1.26.9) or chardet (5.1.0)/charset_normalizer (2.0.4) doesn't match a supported version!\n",
      "  RequestsDependencyWarning)\n"
     ]
    },
    {
     "data": {
      "text/html": [
       "<style>\n",
       "    table.wandb td:nth-child(1) { padding: 0 10px; text-align: left ; width: auto;} td:nth-child(2) {text-align: left ; width: 100%}\n",
       "    .wandb-row { display: flex; flex-direction: row; flex-wrap: wrap; justify-content: flex-start; width: 100% }\n",
       "    .wandb-col { display: flex; flex-direction: column; flex-basis: 100%; flex: 1; padding: 10px; }\n",
       "    </style>\n",
       "<div class=\"wandb-row\"><div class=\"wandb-col\"><h3>Run history:</h3><br/><table class=\"wandb\"><tr><td>epoch</td><td>▁▁▃▃▃▆▆▆▆█</td></tr><tr><td>train_acc_epoch</td><td>█▁▁</td></tr><tr><td>train_acc_step</td><td>█▁▁▁</td></tr><tr><td>train_loss_epoch</td><td>█▁▁</td></tr><tr><td>train_loss_step</td><td>█▃▁▁</td></tr><tr><td>trainer/global_step</td><td>▃▁▁▁▁▁▁▁▁▃▃▄▁▁▁▁▁▁▁▂▆▆▆█▂▂▂▂▂▂▂▂██</td></tr><tr><td>val_acc_epoch</td><td>▅█▁</td></tr><tr><td>val_acc_step</td><td>▁█▁▃▁▃▁▁▁█▆▁▁▃▁▇▁▃▁▁▁▃▁▁</td></tr><tr><td>val_loss_epoch</td><td>█▃▁</td></tr><tr><td>val_loss_step</td><td>▅▇▆▅▃▇▃▄▄█▃▁▂▆▃▅▄▅▁▂▂▅▃▅</td></tr></table><br/></div><div class=\"wandb-col\"><h3>Run summary:</h3><br/><table class=\"wandb\"><tr><td>epoch</td><td>3</td></tr><tr><td>train_acc_epoch</td><td>0.00023</td></tr><tr><td>train_acc_step</td><td>0.0</td></tr><tr><td>train_loss_epoch</td><td>0.01839</td></tr><tr><td>train_loss_step</td><td>0.00922</td></tr><tr><td>trainer/global_step</td><td>200</td></tr><tr><td>val_acc_epoch</td><td>0.00421</td></tr><tr><td>val_acc_step</td><td>0.0</td></tr><tr><td>val_loss_epoch</td><td>0.18521</td></tr><tr><td>val_loss_step</td><td>0.26693</td></tr></table><br/></div></div>"
      ],
      "text/plain": [
       "<IPython.core.display.HTML object>"
      ]
     },
     "metadata": {},
     "output_type": "display_data"
    },
    {
     "data": {
      "text/html": [
       "Synced <strong style=\"color:#cdcd00\">earnest-elevator-21</strong>: <a href=\"https://wandb.ai/kchoi1230/stat_final/runs/1h7ivyi9\" target=\"_blank\">https://wandb.ai/kchoi1230/stat_final/runs/1h7ivyi9</a><br/>Synced 6 W&B file(s), 0 media file(s), 0 artifact file(s) and 0 other file(s)"
      ],
      "text/plain": [
       "<IPython.core.display.HTML object>"
      ]
     },
     "metadata": {},
     "output_type": "display_data"
    },
    {
     "data": {
      "text/html": [
       "Find logs at: <code>./wandb/run-20230416_165846-1h7ivyi9/logs</code>"
      ],
      "text/plain": [
       "<IPython.core.display.HTML object>"
      ]
     },
     "metadata": {},
     "output_type": "display_data"
    }
   ],
   "source": [
    "wandb.finish()"
   ]
  },
  {
   "cell_type": "code",
   "execution_count": 81,
   "id": "e16db8a1-fc1e-4933-b71d-21431d5a6c92",
   "metadata": {},
   "outputs": [
    {
     "ename": "NotImplementedError",
     "evalue": "",
     "output_type": "error",
     "traceback": [
      "\u001b[0;31m---------------------------------------------------------------------------\u001b[0m",
      "\u001b[0;31mNotImplementedError\u001b[0m                       Traceback (most recent call last)",
      "\u001b[0;32m/tmp/ipykernel_2950/840175068.py\u001b[0m in \u001b[0;36m<module>\u001b[0;34m\u001b[0m\n\u001b[1;32m      3\u001b[0m \u001b[0msave_path\u001b[0m \u001b[0;34m=\u001b[0m \u001b[0;34m'/plant/test'\u001b[0m\u001b[0;34m\u001b[0m\u001b[0;34m\u001b[0m\u001b[0m\n\u001b[1;32m      4\u001b[0m \u001b[0mtest_data_dir\u001b[0m\u001b[0;34m=\u001b[0m\u001b[0;34m'/home2/kchoi/image/plant/data/train/test'\u001b[0m\u001b[0;34m\u001b[0m\u001b[0;34m\u001b[0m\u001b[0m\n\u001b[0;32m----> 5\u001b[0;31m \u001b[0mgenerate_predictions\u001b[0m\u001b[0;34m(\u001b[0m\u001b[0mmodel\u001b[0m\u001b[0;34m,\u001b[0m \u001b[0mtest_data_dir\u001b[0m\u001b[0;34m,\u001b[0m \u001b[0mclasses\u001b[0m\u001b[0;34m,\u001b[0m \u001b[0mdevice\u001b[0m\u001b[0;34m,\u001b[0m \u001b[0msave_path\u001b[0m\u001b[0;34m)\u001b[0m\u001b[0;34m\u001b[0m\u001b[0;34m\u001b[0m\u001b[0m\n\u001b[0m",
      "\u001b[0;32m/tmp/ipykernel_2950/3055990511.py\u001b[0m in \u001b[0;36mgenerate_predictions\u001b[0;34m(model, test_data_dir, classes, device, save_path)\u001b[0m\n\u001b[1;32m    276\u001b[0m         \u001b[0;31m# Get prediction\u001b[0m\u001b[0;34m\u001b[0m\u001b[0;34m\u001b[0m\u001b[0;34m\u001b[0m\u001b[0m\n\u001b[1;32m    277\u001b[0m         \u001b[0;32mwith\u001b[0m \u001b[0mtorch\u001b[0m\u001b[0;34m.\u001b[0m\u001b[0mno_grad\u001b[0m\u001b[0;34m(\u001b[0m\u001b[0;34m)\u001b[0m\u001b[0;34m:\u001b[0m\u001b[0;34m\u001b[0m\u001b[0;34m\u001b[0m\u001b[0m\n\u001b[0;32m--> 278\u001b[0;31m             \u001b[0moutput\u001b[0m \u001b[0;34m=\u001b[0m \u001b[0mmodel\u001b[0m\u001b[0;34m(\u001b[0m\u001b[0mimg\u001b[0m\u001b[0;34m)\u001b[0m\u001b[0;34m\u001b[0m\u001b[0;34m\u001b[0m\u001b[0m\n\u001b[0m\u001b[1;32m    279\u001b[0m             \u001b[0m_\u001b[0m\u001b[0;34m,\u001b[0m \u001b[0mpreds\u001b[0m \u001b[0;34m=\u001b[0m \u001b[0mtorch\u001b[0m\u001b[0;34m.\u001b[0m\u001b[0mmax\u001b[0m\u001b[0;34m(\u001b[0m\u001b[0moutput\u001b[0m\u001b[0;34m,\u001b[0m \u001b[0mdim\u001b[0m\u001b[0;34m=\u001b[0m\u001b[0;36m1\u001b[0m\u001b[0;34m)\u001b[0m\u001b[0;34m\u001b[0m\u001b[0;34m\u001b[0m\u001b[0m\n\u001b[1;32m    280\u001b[0m             \u001b[0mpredicted_class\u001b[0m \u001b[0;34m=\u001b[0m \u001b[0mclasses\u001b[0m\u001b[0;34m[\u001b[0m\u001b[0mpreds\u001b[0m\u001b[0;34m.\u001b[0m\u001b[0mitem\u001b[0m\u001b[0;34m(\u001b[0m\u001b[0;34m)\u001b[0m\u001b[0;34m]\u001b[0m\u001b[0;34m\u001b[0m\u001b[0;34m\u001b[0m\u001b[0m\n",
      "\u001b[0;32m~/.conda/envs/pl/lib/python3.7/site-packages/torch/nn/modules/module.py\u001b[0m in \u001b[0;36m_call_impl\u001b[0;34m(self, *input, **kwargs)\u001b[0m\n\u001b[1;32m   1108\u001b[0m         if not (self._backward_hooks or self._forward_hooks or self._forward_pre_hooks or _global_backward_hooks\n\u001b[1;32m   1109\u001b[0m                 or _global_forward_hooks or _global_forward_pre_hooks):\n\u001b[0;32m-> 1110\u001b[0;31m             \u001b[0;32mreturn\u001b[0m \u001b[0mforward_call\u001b[0m\u001b[0;34m(\u001b[0m\u001b[0;34m*\u001b[0m\u001b[0minput\u001b[0m\u001b[0;34m,\u001b[0m \u001b[0;34m**\u001b[0m\u001b[0mkwargs\u001b[0m\u001b[0;34m)\u001b[0m\u001b[0;34m\u001b[0m\u001b[0;34m\u001b[0m\u001b[0m\n\u001b[0m\u001b[1;32m   1111\u001b[0m         \u001b[0;31m# Do not call functions when jit is used\u001b[0m\u001b[0;34m\u001b[0m\u001b[0;34m\u001b[0m\u001b[0;34m\u001b[0m\u001b[0m\n\u001b[1;32m   1112\u001b[0m         \u001b[0mfull_backward_hooks\u001b[0m\u001b[0;34m,\u001b[0m \u001b[0mnon_full_backward_hooks\u001b[0m \u001b[0;34m=\u001b[0m \u001b[0;34m[\u001b[0m\u001b[0;34m]\u001b[0m\u001b[0;34m,\u001b[0m \u001b[0;34m[\u001b[0m\u001b[0;34m]\u001b[0m\u001b[0;34m\u001b[0m\u001b[0;34m\u001b[0m\u001b[0m\n",
      "\u001b[0;32m~/.conda/envs/pl/lib/python3.7/site-packages/pytorch_lightning/core/lightning.py\u001b[0m in \u001b[0;36mforward\u001b[0;34m(self, *args, **kwargs)\u001b[0m\n\u001b[1;32m    583\u001b[0m             \u001b[0mYour\u001b[0m \u001b[0mmodel\u001b[0m\u001b[0;31m'\u001b[0m\u001b[0ms\u001b[0m \u001b[0moutput\u001b[0m\u001b[0;34m\u001b[0m\u001b[0;34m\u001b[0m\u001b[0m\n\u001b[1;32m    584\u001b[0m         \"\"\"\n\u001b[0;32m--> 585\u001b[0;31m         \u001b[0;32mreturn\u001b[0m \u001b[0msuper\u001b[0m\u001b[0;34m(\u001b[0m\u001b[0;34m)\u001b[0m\u001b[0;34m.\u001b[0m\u001b[0mforward\u001b[0m\u001b[0;34m(\u001b[0m\u001b[0;34m*\u001b[0m\u001b[0margs\u001b[0m\u001b[0;34m,\u001b[0m \u001b[0;34m**\u001b[0m\u001b[0mkwargs\u001b[0m\u001b[0;34m)\u001b[0m\u001b[0;34m\u001b[0m\u001b[0;34m\u001b[0m\u001b[0m\n\u001b[0m\u001b[1;32m    586\u001b[0m \u001b[0;34m\u001b[0m\u001b[0m\n\u001b[1;32m    587\u001b[0m     \u001b[0;32mdef\u001b[0m \u001b[0mtraining_step\u001b[0m\u001b[0;34m(\u001b[0m\u001b[0mself\u001b[0m\u001b[0;34m,\u001b[0m \u001b[0;34m*\u001b[0m\u001b[0margs\u001b[0m\u001b[0;34m,\u001b[0m \u001b[0;34m**\u001b[0m\u001b[0mkwargs\u001b[0m\u001b[0;34m)\u001b[0m \u001b[0;34m->\u001b[0m \u001b[0mSTEP_OUTPUT\u001b[0m\u001b[0;34m:\u001b[0m\u001b[0;34m\u001b[0m\u001b[0;34m\u001b[0m\u001b[0m\n",
      "\u001b[0;32m~/.conda/envs/pl/lib/python3.7/site-packages/torch/nn/modules/module.py\u001b[0m in \u001b[0;36m_forward_unimplemented\u001b[0;34m(self, *input)\u001b[0m\n\u001b[1;32m    199\u001b[0m         \u001b[0mregistered\u001b[0m \u001b[0mhooks\u001b[0m \u001b[0;32mwhile\u001b[0m \u001b[0mthe\u001b[0m \u001b[0mlatter\u001b[0m \u001b[0msilently\u001b[0m \u001b[0mignores\u001b[0m \u001b[0mthem\u001b[0m\u001b[0;34m.\u001b[0m\u001b[0;34m\u001b[0m\u001b[0;34m\u001b[0m\u001b[0m\n\u001b[1;32m    200\u001b[0m     \"\"\"\n\u001b[0;32m--> 201\u001b[0;31m     \u001b[0;32mraise\u001b[0m \u001b[0mNotImplementedError\u001b[0m\u001b[0;34m\u001b[0m\u001b[0;34m\u001b[0m\u001b[0m\n\u001b[0m\u001b[1;32m    202\u001b[0m \u001b[0;34m\u001b[0m\u001b[0m\n\u001b[1;32m    203\u001b[0m \u001b[0;34m\u001b[0m\u001b[0m\n",
      "\u001b[0;31mNotImplementedError\u001b[0m: "
     ]
    }
   ],
   "source": [
    "# test_data_dir = os.getcwd()+\"/test\"\n",
    "device = 'cuda'\n",
    "save_path = '/plant/test'\n",
    "test_data_dir='/home2/kchoi/image/plant/data/train/test'\n",
    "generate_predictions(model, test_data_dir, classes, device, save_path)"
   ]
  },
  {
   "cell_type": "code",
   "execution_count": 11,
   "id": "925263f1-92fb-46e3-a564-19f3373aac46",
   "metadata": {},
   "outputs": [
    {
     "ename": "NameError",
     "evalue": "name 'pdm' is not defined",
     "output_type": "error",
     "traceback": [
      "\u001b[0;31m---------------------------------------------------------------------------\u001b[0m",
      "\u001b[0;31mNameError\u001b[0m                                 Traceback (most recent call last)",
      "\u001b[0;32m/tmp/ipykernel_4067/2107782412.py\u001b[0m in \u001b[0;36m<module>\u001b[0;34m\u001b[0m\n\u001b[1;32m      1\u001b[0m \u001b[0;31m# trainer.test(dataloaders=\u001b[0m\u001b[0;34m\u001b[0m\u001b[0;34m\u001b[0m\u001b[0;34m\u001b[0m\u001b[0m\n\u001b[1;32m      2\u001b[0m \u001b[0;31m# )\u001b[0m\u001b[0;34m\u001b[0m\u001b[0;34m\u001b[0m\u001b[0;34m\u001b[0m\u001b[0m\n\u001b[0;32m----> 3\u001b[0;31m \u001b[0mval_samples\u001b[0m \u001b[0;34m=\u001b[0m \u001b[0mnext\u001b[0m\u001b[0;34m(\u001b[0m\u001b[0miter\u001b[0m\u001b[0;34m(\u001b[0m\u001b[0mpdm\u001b[0m\u001b[0;34m.\u001b[0m\u001b[0mtest_dataloader\u001b[0m\u001b[0;34m(\u001b[0m\u001b[0;34m)\u001b[0m\u001b[0;34m)\u001b[0m\u001b[0;34m)\u001b[0m\u001b[0;34m\u001b[0m\u001b[0;34m\u001b[0m\u001b[0m\n\u001b[0m\u001b[1;32m      4\u001b[0m \u001b[0mval_imgs\u001b[0m\u001b[0;34m,\u001b[0m \u001b[0mval_labels\u001b[0m \u001b[0;34m=\u001b[0m \u001b[0mval_samples\u001b[0m\u001b[0;34m[\u001b[0m\u001b[0;36m0\u001b[0m\u001b[0;34m]\u001b[0m\u001b[0;34m,\u001b[0m \u001b[0mval_samples\u001b[0m\u001b[0;34m[\u001b[0m\u001b[0;36m1\u001b[0m\u001b[0;34m]\u001b[0m\u001b[0;34m\u001b[0m\u001b[0;34m\u001b[0m\u001b[0m\n\u001b[1;32m      5\u001b[0m \u001b[0mval_imgs\u001b[0m\u001b[0;34m.\u001b[0m\u001b[0mshape\u001b[0m\u001b[0;34m,\u001b[0m \u001b[0mval_labels\u001b[0m\u001b[0;34m.\u001b[0m\u001b[0mshape\u001b[0m\u001b[0;34m\u001b[0m\u001b[0;34m\u001b[0m\u001b[0m\n",
      "\u001b[0;31mNameError\u001b[0m: name 'pdm' is not defined"
     ]
    }
   ],
   "source": [
    "# trainer.test(dataloaders=\n",
    "# )\n",
    "val_samples = next(iter(pdm.test_dataloader()))\n",
    "val_imgs, val_labels = val_samples[0], val_samples[1]\n",
    "val_imgs.shape, val_labels.shape"
   ]
  },
  {
   "cell_type": "code",
   "execution_count": 31,
   "id": "f102d203-f677-4600-9be2-af4885fd0eb6",
   "metadata": {},
   "outputs": [],
   "source": [
    "# trainer.test(dataloaders=\n",
    "# )\n",
    "val_samples = next(iter(test_loader))\n",
    "val_imgs, val_labels = val_samples[0], val_samples[1]\n",
    "# val_imgs.shape, val_labels.shape"
   ]
  },
  {
   "cell_type": "code",
   "execution_count": 33,
   "id": "08e7c1bd-9c78-429e-bc8d-6b916bc77c4a",
   "metadata": {},
   "outputs": [
    {
     "data": {
      "text/plain": [
       "('2406d6c99.png',\n",
       " '9aa5587fe.png',\n",
       " '089ad62a7.png',\n",
       " '558aa7deb.png',\n",
       " 'caa2fbd79.png',\n",
       " 'cbe761896.png',\n",
       " '4b032563b.png',\n",
       " '3f92d8039.png',\n",
       " '0ad9e7dfb.png',\n",
       " '653193c1a.png',\n",
       " 'e9d48d664.png',\n",
       " '780bd2a2c.png',\n",
       " 'a7bd7cadb.png',\n",
       " 'cadab6616.png',\n",
       " '13b9fa92d.png',\n",
       " '0d117d910.png',\n",
       " 'bfab3e3d0.png',\n",
       " '8bc0261c9.png',\n",
       " '219fd68d5.png',\n",
       " '2f0004a7f.png',\n",
       " '4e69d100a.png',\n",
       " '39858776a.png',\n",
       " '6edb96d45.png',\n",
       " '837ac0270.png',\n",
       " 'a8b431a3e.png',\n",
       " 'cf90fc52d.png',\n",
       " '3f826b318.png',\n",
       " '7b21ba6ba.png',\n",
       " '711b46fba.png',\n",
       " '590f5aea6.png',\n",
       " '8e29abce1.png',\n",
       " '3f64c2c1b.png')"
      ]
     },
     "execution_count": 33,
     "metadata": {},
     "output_type": "execute_result"
    }
   ],
   "source": [
    "val_labels"
   ]
  },
  {
   "cell_type": "code",
   "execution_count": 35,
   "id": "6fe704d1-8858-4c7a-9aa3-308575be80d9",
   "metadata": {},
   "outputs": [
    {
     "data": {
      "text/html": [
       "<div>\n",
       "<style scoped>\n",
       "    .dataframe tbody tr th:only-of-type {\n",
       "        vertical-align: middle;\n",
       "    }\n",
       "\n",
       "    .dataframe tbody tr th {\n",
       "        vertical-align: top;\n",
       "    }\n",
       "\n",
       "    .dataframe thead th {\n",
       "        text-align: right;\n",
       "    }\n",
       "</style>\n",
       "<table border=\"1\" class=\"dataframe\">\n",
       "  <thead>\n",
       "    <tr style=\"text-align: right;\">\n",
       "      <th></th>\n",
       "      <th>file</th>\n",
       "      <th>species</th>\n",
       "    </tr>\n",
       "  </thead>\n",
       "  <tbody>\n",
       "    <tr>\n",
       "      <th>151</th>\n",
       "      <td>0021e90e4.png</td>\n",
       "      <td>Small-flowered Cranesbill</td>\n",
       "    </tr>\n",
       "    <tr>\n",
       "      <th>537</th>\n",
       "      <td>003d61042.png</td>\n",
       "      <td>Fat Hen</td>\n",
       "    </tr>\n",
       "    <tr>\n",
       "      <th>299</th>\n",
       "      <td>007b3da8b.png</td>\n",
       "      <td>Sugar beet</td>\n",
       "    </tr>\n",
       "    <tr>\n",
       "      <th>650</th>\n",
       "      <td>0086a6340.png</td>\n",
       "      <td>Common Chickweed</td>\n",
       "    </tr>\n",
       "    <tr>\n",
       "      <th>718</th>\n",
       "      <td>00c47e980.png</td>\n",
       "      <td>Sugar beet</td>\n",
       "    </tr>\n",
       "    <tr>\n",
       "      <th>...</th>\n",
       "      <td>...</td>\n",
       "      <td>...</td>\n",
       "    </tr>\n",
       "    <tr>\n",
       "      <th>618</th>\n",
       "      <td>fea355851.png</td>\n",
       "      <td>Loose Silky-bent</td>\n",
       "    </tr>\n",
       "    <tr>\n",
       "      <th>655</th>\n",
       "      <td>fea3da57c.png</td>\n",
       "      <td>Sugar beet</td>\n",
       "    </tr>\n",
       "    <tr>\n",
       "      <th>560</th>\n",
       "      <td>fef2ade8c.png</td>\n",
       "      <td>Sugar beet</td>\n",
       "    </tr>\n",
       "    <tr>\n",
       "      <th>79</th>\n",
       "      <td>ff65bc002.png</td>\n",
       "      <td>Charlock</td>\n",
       "    </tr>\n",
       "    <tr>\n",
       "      <th>165</th>\n",
       "      <td>ffc6f8527.png</td>\n",
       "      <td>Common wheat</td>\n",
       "    </tr>\n",
       "  </tbody>\n",
       "</table>\n",
       "<p>794 rows × 2 columns</p>\n",
       "</div>"
      ],
      "text/plain": [
       "              file                    species\n",
       "151  0021e90e4.png  Small-flowered Cranesbill\n",
       "537  003d61042.png                    Fat Hen\n",
       "299  007b3da8b.png                 Sugar beet\n",
       "650  0086a6340.png           Common Chickweed\n",
       "718  00c47e980.png                 Sugar beet\n",
       "..             ...                        ...\n",
       "618  fea355851.png           Loose Silky-bent\n",
       "655  fea3da57c.png                 Sugar beet\n",
       "560  fef2ade8c.png                 Sugar beet\n",
       "79   ff65bc002.png                   Charlock\n",
       "165  ffc6f8527.png               Common wheat\n",
       "\n",
       "[794 rows x 2 columns]"
      ]
     },
     "execution_count": 35,
     "metadata": {},
     "output_type": "execute_result"
    }
   ],
   "source": [
    "df_test.sort_values(by='file')"
   ]
  },
  {
   "cell_type": "code",
   "execution_count": 9,
   "id": "4f8e5716-7be2-47f1-b127-bae4ce4597b0",
   "metadata": {},
   "outputs": [
    {
     "name": "stdout",
     "output_type": "stream",
     "text": [
      "['adv_inception_v3', 'bat_resnext26ts', 'beit_base_patch16_224', 'beit_base_patch16_224_in22k', 'beit_base_patch16_384', 'beit_large_patch16_224', 'beit_large_patch16_224_in22k', 'beit_large_patch16_384', 'beit_large_patch16_512', 'beitv2_base_patch16_224', 'beitv2_base_patch16_224_in22k', 'beitv2_large_patch16_224', 'beitv2_large_patch16_224_in22k', 'botnet26t_256', 'cait_m36_384', 'cait_m48_448', 'cait_s24_224', 'cait_s24_384', 'cait_s36_384', 'cait_xs24_384', 'cait_xxs24_224', 'cait_xxs24_384', 'cait_xxs36_224', 'cait_xxs36_384', 'coat_lite_mini', 'coat_lite_small', 'coat_lite_tiny', 'coat_mini', 'coat_tiny', 'coatnet_0_rw_224', 'coatnet_1_rw_224', 'coatnet_bn_0_rw_224', 'coatnet_nano_rw_224', 'coatnet_rmlp_1_rw_224', 'coatnet_rmlp_2_rw_224', 'coatnet_rmlp_nano_rw_224', 'coatnext_nano_rw_224', 'convit_base', 'convit_small', 'convit_tiny', 'convmixer_768_32', 'convmixer_1024_20_ks9_p14', 'convmixer_1536_20', 'convnext_atto', 'convnext_atto_ols', 'convnext_base', 'convnext_base_384_in22ft1k', 'convnext_base_in22ft1k', 'convnext_base_in22k', 'convnext_femto', 'convnext_femto_ols', 'convnext_large', 'convnext_large_384_in22ft1k', 'convnext_large_in22ft1k', 'convnext_large_in22k', 'convnext_nano', 'convnext_nano_ols', 'convnext_pico', 'convnext_pico_ols', 'convnext_small', 'convnext_small_384_in22ft1k', 'convnext_small_in22ft1k', 'convnext_small_in22k', 'convnext_tiny', 'convnext_tiny_384_in22ft1k', 'convnext_tiny_hnf', 'convnext_tiny_in22ft1k', 'convnext_tiny_in22k', 'convnext_xlarge_384_in22ft1k', 'convnext_xlarge_in22ft1k', 'convnext_xlarge_in22k', 'crossvit_9_240', 'crossvit_9_dagger_240', 'crossvit_15_240', 'crossvit_15_dagger_240', 'crossvit_15_dagger_408', 'crossvit_18_240', 'crossvit_18_dagger_240', 'crossvit_18_dagger_408', 'crossvit_base_240', 'crossvit_small_240', 'crossvit_tiny_240', 'cs3darknet_focus_l', 'cs3darknet_focus_m', 'cs3darknet_l', 'cs3darknet_m', 'cs3darknet_x', 'cs3edgenet_x', 'cs3se_edgenet_x', 'cs3sedarknet_l', 'cs3sedarknet_x', 'cspdarknet53', 'cspresnet50', 'cspresnext50', 'darknet53', 'darknetaa53', 'deit3_base_patch16_224', 'deit3_base_patch16_224_in21ft1k', 'deit3_base_patch16_384', 'deit3_base_patch16_384_in21ft1k', 'deit3_huge_patch14_224', 'deit3_huge_patch14_224_in21ft1k', 'deit3_large_patch16_224', 'deit3_large_patch16_224_in21ft1k', 'deit3_large_patch16_384', 'deit3_large_patch16_384_in21ft1k', 'deit3_medium_patch16_224', 'deit3_medium_patch16_224_in21ft1k', 'deit3_small_patch16_224', 'deit3_small_patch16_224_in21ft1k', 'deit3_small_patch16_384', 'deit3_small_patch16_384_in21ft1k', 'deit_base_distilled_patch16_224', 'deit_base_distilled_patch16_384', 'deit_base_patch16_224', 'deit_base_patch16_384', 'deit_small_distilled_patch16_224', 'deit_small_patch16_224', 'deit_tiny_distilled_patch16_224', 'deit_tiny_patch16_224', 'densenet121', 'densenet161', 'densenet169', 'densenet201', 'densenetblur121d', 'dla34', 'dla46_c', 'dla46x_c', 'dla60', 'dla60_res2net', 'dla60_res2next', 'dla60x', 'dla60x_c', 'dla102', 'dla102x', 'dla102x2', 'dla169', 'dm_nfnet_f0', 'dm_nfnet_f1', 'dm_nfnet_f2', 'dm_nfnet_f3', 'dm_nfnet_f4', 'dm_nfnet_f5', 'dm_nfnet_f6', 'dpn68', 'dpn68b', 'dpn92', 'dpn98', 'dpn107', 'dpn131', 'eca_botnext26ts_256', 'eca_halonext26ts', 'eca_nfnet_l0', 'eca_nfnet_l1', 'eca_nfnet_l2', 'eca_resnet33ts', 'eca_resnext26ts', 'ecaresnet26t', 'ecaresnet50d', 'ecaresnet50d_pruned', 'ecaresnet50t', 'ecaresnet101d', 'ecaresnet101d_pruned', 'ecaresnet269d', 'ecaresnetlight', 'edgenext_base', 'edgenext_small', 'edgenext_small_rw', 'edgenext_x_small', 'edgenext_xx_small', 'efficientformer_l1', 'efficientformer_l3', 'efficientformer_l7', 'efficientnet_b0', 'efficientnet_b1', 'efficientnet_b1_pruned', 'efficientnet_b2', 'efficientnet_b2_pruned', 'efficientnet_b3', 'efficientnet_b3_pruned', 'efficientnet_b4', 'efficientnet_el', 'efficientnet_el_pruned', 'efficientnet_em', 'efficientnet_es', 'efficientnet_es_pruned', 'efficientnet_lite0', 'efficientnetv2_rw_m', 'efficientnetv2_rw_s', 'efficientnetv2_rw_t', 'ens_adv_inception_resnet_v2', 'ese_vovnet19b_dw', 'ese_vovnet39b', 'fbnetc_100', 'fbnetv3_b', 'fbnetv3_d', 'fbnetv3_g', 'gc_efficientnetv2_rw_t', 'gcresnet33ts', 'gcresnet50t', 'gcresnext26ts', 'gcresnext50ts', 'gcvit_base', 'gcvit_small', 'gcvit_tiny', 'gcvit_xtiny', 'gcvit_xxtiny', 'gernet_l', 'gernet_m', 'gernet_s', 'ghostnet_100', 'gluon_inception_v3', 'gluon_resnet18_v1b', 'gluon_resnet34_v1b', 'gluon_resnet50_v1b', 'gluon_resnet50_v1c', 'gluon_resnet50_v1d', 'gluon_resnet50_v1s', 'gluon_resnet101_v1b', 'gluon_resnet101_v1c', 'gluon_resnet101_v1d', 'gluon_resnet101_v1s', 'gluon_resnet152_v1b', 'gluon_resnet152_v1c', 'gluon_resnet152_v1d', 'gluon_resnet152_v1s', 'gluon_resnext50_32x4d', 'gluon_resnext101_32x4d', 'gluon_resnext101_64x4d', 'gluon_senet154', 'gluon_seresnext50_32x4d', 'gluon_seresnext101_32x4d', 'gluon_seresnext101_64x4d', 'gluon_xception65', 'gmixer_24_224', 'gmlp_s16_224', 'halo2botnet50ts_256', 'halonet26t', 'halonet50ts', 'haloregnetz_b', 'hardcorenas_a', 'hardcorenas_b', 'hardcorenas_c', 'hardcorenas_d', 'hardcorenas_e', 'hardcorenas_f', 'hrnet_w18', 'hrnet_w18_small', 'hrnet_w18_small_v2', 'hrnet_w30', 'hrnet_w32', 'hrnet_w40', 'hrnet_w44', 'hrnet_w48', 'hrnet_w64', 'ig_resnext101_32x8d', 'ig_resnext101_32x16d', 'ig_resnext101_32x32d', 'ig_resnext101_32x48d', 'inception_resnet_v2', 'inception_v3', 'inception_v4', 'jx_nest_base', 'jx_nest_small', 'jx_nest_tiny', 'lambda_resnet26rpt_256', 'lambda_resnet26t', 'lambda_resnet50ts', 'lamhalobotnet50ts_256', 'lcnet_050', 'lcnet_075', 'lcnet_100', 'legacy_senet154', 'legacy_seresnet18', 'legacy_seresnet34', 'legacy_seresnet50', 'legacy_seresnet101', 'legacy_seresnet152', 'legacy_seresnext26_32x4d', 'legacy_seresnext50_32x4d', 'legacy_seresnext101_32x4d', 'levit_128', 'levit_128s', 'levit_192', 'levit_256', 'levit_384', 'maxvit_nano_rw_256', 'maxvit_rmlp_nano_rw_256', 'maxvit_rmlp_pico_rw_256', 'maxvit_rmlp_small_rw_224', 'maxvit_rmlp_tiny_rw_256', 'maxvit_tiny_rw_224', 'maxxvit_rmlp_nano_rw_256', 'maxxvit_rmlp_small_rw_256', 'mixer_b16_224', 'mixer_b16_224_in21k', 'mixer_b16_224_miil', 'mixer_b16_224_miil_in21k', 'mixer_l16_224', 'mixer_l16_224_in21k', 'mixnet_l', 'mixnet_m', 'mixnet_s', 'mixnet_xl', 'mnasnet_100', 'mnasnet_small', 'mobilenetv2_050', 'mobilenetv2_100', 'mobilenetv2_110d', 'mobilenetv2_120d', 'mobilenetv2_140', 'mobilenetv3_large_100', 'mobilenetv3_large_100_miil', 'mobilenetv3_large_100_miil_in21k', 'mobilenetv3_rw', 'mobilenetv3_small_050', 'mobilenetv3_small_075', 'mobilenetv3_small_100', 'mobilevit_s', 'mobilevit_xs', 'mobilevit_xxs', 'mobilevitv2_050', 'mobilevitv2_075', 'mobilevitv2_100', 'mobilevitv2_125', 'mobilevitv2_150', 'mobilevitv2_150_384_in22ft1k', 'mobilevitv2_150_in22ft1k', 'mobilevitv2_175', 'mobilevitv2_175_384_in22ft1k', 'mobilevitv2_175_in22ft1k', 'mobilevitv2_200', 'mobilevitv2_200_384_in22ft1k', 'mobilevitv2_200_in22ft1k', 'mvitv2_base', 'mvitv2_large', 'mvitv2_small', 'mvitv2_tiny', 'nasnetalarge', 'nf_regnet_b1', 'nf_resnet50', 'nfnet_l0', 'pit_b_224', 'pit_b_distilled_224', 'pit_s_224', 'pit_s_distilled_224', 'pit_ti_224', 'pit_ti_distilled_224', 'pit_xs_224', 'pit_xs_distilled_224', 'pnasnet5large', 'poolformer_m36', 'poolformer_m48', 'poolformer_s12', 'poolformer_s24', 'poolformer_s36', 'pvt_v2_b0', 'pvt_v2_b1', 'pvt_v2_b2', 'pvt_v2_b2_li', 'pvt_v2_b3', 'pvt_v2_b4', 'pvt_v2_b5', 'regnetv_040', 'regnetv_064', 'regnetx_002', 'regnetx_004', 'regnetx_006', 'regnetx_008', 'regnetx_016', 'regnetx_032', 'regnetx_040', 'regnetx_064', 'regnetx_080', 'regnetx_120', 'regnetx_160', 'regnetx_320', 'regnety_002', 'regnety_004', 'regnety_006', 'regnety_008', 'regnety_016', 'regnety_032', 'regnety_040', 'regnety_064', 'regnety_080', 'regnety_120', 'regnety_160', 'regnety_320', 'regnetz_040', 'regnetz_040h', 'regnetz_b16', 'regnetz_c16', 'regnetz_c16_evos', 'regnetz_d8', 'regnetz_d8_evos', 'regnetz_d32', 'regnetz_e8', 'repvgg_a2', 'repvgg_b0', 'repvgg_b1', 'repvgg_b1g4', 'repvgg_b2', 'repvgg_b2g4', 'repvgg_b3', 'repvgg_b3g4', 'res2net50_14w_8s', 'res2net50_26w_4s', 'res2net50_26w_6s', 'res2net50_26w_8s', 'res2net50_48w_2s', 'res2net101_26w_4s', 'res2next50', 'resmlp_12_224', 'resmlp_12_224_dino', 'resmlp_12_distilled_224', 'resmlp_24_224', 'resmlp_24_224_dino', 'resmlp_24_distilled_224', 'resmlp_36_224', 'resmlp_36_distilled_224', 'resmlp_big_24_224', 'resmlp_big_24_224_in22ft1k', 'resmlp_big_24_distilled_224', 'resnest14d', 'resnest26d', 'resnest50d', 'resnest50d_1s4x24d', 'resnest50d_4s2x40d', 'resnest101e', 'resnest200e', 'resnest269e', 'resnet10t', 'resnet14t', 'resnet18', 'resnet18d', 'resnet26', 'resnet26d', 'resnet26t', 'resnet32ts', 'resnet33ts', 'resnet34', 'resnet34d', 'resnet50', 'resnet50_gn', 'resnet50d', 'resnet51q', 'resnet61q', 'resnet101', 'resnet101d', 'resnet152', 'resnet152d', 'resnet200d', 'resnetaa50', 'resnetblur50', 'resnetrs50', 'resnetrs101', 'resnetrs152', 'resnetrs200', 'resnetrs270', 'resnetrs350', 'resnetrs420', 'resnetv2_50', 'resnetv2_50d_evos', 'resnetv2_50d_gn', 'resnetv2_50x1_bit_distilled', 'resnetv2_50x1_bitm', 'resnetv2_50x1_bitm_in21k', 'resnetv2_50x3_bitm', 'resnetv2_50x3_bitm_in21k', 'resnetv2_101', 'resnetv2_101x1_bitm', 'resnetv2_101x1_bitm_in21k', 'resnetv2_101x3_bitm', 'resnetv2_101x3_bitm_in21k', 'resnetv2_152x2_bit_teacher', 'resnetv2_152x2_bit_teacher_384', 'resnetv2_152x2_bitm', 'resnetv2_152x2_bitm_in21k', 'resnetv2_152x4_bitm', 'resnetv2_152x4_bitm_in21k', 'resnext26ts', 'resnext50_32x4d', 'resnext50d_32x4d', 'resnext101_32x8d', 'resnext101_64x4d', 'rexnet_100', 'rexnet_130', 'rexnet_150', 'rexnet_200', 'sebotnet33ts_256', 'sehalonet33ts', 'selecsls42b', 'selecsls60', 'selecsls60b', 'semnasnet_075', 'semnasnet_100', 'sequencer2d_l', 'sequencer2d_m', 'sequencer2d_s', 'seresnet33ts', 'seresnet50', 'seresnet152d', 'seresnext26d_32x4d', 'seresnext26t_32x4d', 'seresnext26ts', 'seresnext50_32x4d', 'seresnext101_32x8d', 'seresnext101d_32x8d', 'seresnextaa101d_32x8d', 'skresnet18', 'skresnet34', 'skresnext50_32x4d', 'spnasnet_100', 'ssl_resnet18', 'ssl_resnet50', 'ssl_resnext50_32x4d', 'ssl_resnext101_32x4d', 'ssl_resnext101_32x8d', 'ssl_resnext101_32x16d', 'swin_base_patch4_window7_224', 'swin_base_patch4_window7_224_in22k', 'swin_base_patch4_window12_384', 'swin_base_patch4_window12_384_in22k', 'swin_large_patch4_window7_224', 'swin_large_patch4_window7_224_in22k', 'swin_large_patch4_window12_384', 'swin_large_patch4_window12_384_in22k', 'swin_s3_base_224', 'swin_s3_small_224', 'swin_s3_tiny_224', 'swin_small_patch4_window7_224', 'swin_tiny_patch4_window7_224', 'swinv2_base_window8_256', 'swinv2_base_window12_192_22k', 'swinv2_base_window12to16_192to256_22kft1k', 'swinv2_base_window12to24_192to384_22kft1k', 'swinv2_base_window16_256', 'swinv2_cr_small_224', 'swinv2_cr_small_ns_224', 'swinv2_cr_tiny_ns_224', 'swinv2_large_window12_192_22k', 'swinv2_large_window12to16_192to256_22kft1k', 'swinv2_large_window12to24_192to384_22kft1k', 'swinv2_small_window8_256', 'swinv2_small_window16_256', 'swinv2_tiny_window8_256', 'swinv2_tiny_window16_256', 'swsl_resnet18', 'swsl_resnet50', 'swsl_resnext50_32x4d', 'swsl_resnext101_32x4d', 'swsl_resnext101_32x8d', 'swsl_resnext101_32x16d', 'tf_efficientnet_b0', 'tf_efficientnet_b0_ap', 'tf_efficientnet_b0_ns', 'tf_efficientnet_b1', 'tf_efficientnet_b1_ap', 'tf_efficientnet_b1_ns', 'tf_efficientnet_b2', 'tf_efficientnet_b2_ap', 'tf_efficientnet_b2_ns', 'tf_efficientnet_b3', 'tf_efficientnet_b3_ap', 'tf_efficientnet_b3_ns', 'tf_efficientnet_b4', 'tf_efficientnet_b4_ap', 'tf_efficientnet_b4_ns', 'tf_efficientnet_b5', 'tf_efficientnet_b5_ap', 'tf_efficientnet_b5_ns', 'tf_efficientnet_b6', 'tf_efficientnet_b6_ap', 'tf_efficientnet_b6_ns', 'tf_efficientnet_b7', 'tf_efficientnet_b7_ap', 'tf_efficientnet_b7_ns', 'tf_efficientnet_b8', 'tf_efficientnet_b8_ap', 'tf_efficientnet_cc_b0_4e', 'tf_efficientnet_cc_b0_8e', 'tf_efficientnet_cc_b1_8e', 'tf_efficientnet_el', 'tf_efficientnet_em', 'tf_efficientnet_es', 'tf_efficientnet_l2_ns', 'tf_efficientnet_l2_ns_475', 'tf_efficientnet_lite0', 'tf_efficientnet_lite1', 'tf_efficientnet_lite2', 'tf_efficientnet_lite3', 'tf_efficientnet_lite4', 'tf_efficientnetv2_b0', 'tf_efficientnetv2_b1', 'tf_efficientnetv2_b2', 'tf_efficientnetv2_b3', 'tf_efficientnetv2_l', 'tf_efficientnetv2_l_in21ft1k', 'tf_efficientnetv2_l_in21k', 'tf_efficientnetv2_m', 'tf_efficientnetv2_m_in21ft1k', 'tf_efficientnetv2_m_in21k', 'tf_efficientnetv2_s', 'tf_efficientnetv2_s_in21ft1k', 'tf_efficientnetv2_s_in21k', 'tf_efficientnetv2_xl_in21ft1k', 'tf_efficientnetv2_xl_in21k', 'tf_inception_v3', 'tf_mixnet_l', 'tf_mixnet_m', 'tf_mixnet_s', 'tf_mobilenetv3_large_075', 'tf_mobilenetv3_large_100', 'tf_mobilenetv3_large_minimal_100', 'tf_mobilenetv3_small_075', 'tf_mobilenetv3_small_100', 'tf_mobilenetv3_small_minimal_100', 'tinynet_a', 'tinynet_b', 'tinynet_c', 'tinynet_d', 'tinynet_e', 'tnt_s_patch16_224', 'tresnet_l', 'tresnet_l_448', 'tresnet_m', 'tresnet_m_448', 'tresnet_m_miil_in21k', 'tresnet_v2_l', 'tresnet_xl', 'tresnet_xl_448', 'tv_densenet121', 'tv_resnet34', 'tv_resnet50', 'tv_resnet101', 'tv_resnet152', 'tv_resnext50_32x4d', 'twins_pcpvt_base', 'twins_pcpvt_large', 'twins_pcpvt_small', 'twins_svt_base', 'twins_svt_large', 'twins_svt_small', 'vgg11', 'vgg11_bn', 'vgg13', 'vgg13_bn', 'vgg16', 'vgg16_bn', 'vgg19', 'vgg19_bn', 'visformer_small', 'vit_base_patch8_224', 'vit_base_patch8_224_dino', 'vit_base_patch8_224_in21k', 'vit_base_patch16_224', 'vit_base_patch16_224_dino', 'vit_base_patch16_224_in21k', 'vit_base_patch16_224_miil', 'vit_base_patch16_224_miil_in21k', 'vit_base_patch16_224_sam', 'vit_base_patch16_384', 'vit_base_patch16_rpn_224', 'vit_base_patch32_224', 'vit_base_patch32_224_clip_laion2b', 'vit_base_patch32_224_in21k', 'vit_base_patch32_224_sam', 'vit_base_patch32_384', 'vit_base_r50_s16_224_in21k', 'vit_base_r50_s16_384', 'vit_giant_patch14_224_clip_laion2b', 'vit_huge_patch14_224_clip_laion2b', 'vit_huge_patch14_224_in21k', 'vit_large_patch14_224_clip_laion2b', 'vit_large_patch16_224', 'vit_large_patch16_224_in21k', 'vit_large_patch16_384', 'vit_large_patch32_224_in21k', 'vit_large_patch32_384', 'vit_large_r50_s32_224', 'vit_large_r50_s32_224_in21k', 'vit_large_r50_s32_384', 'vit_relpos_base_patch16_224', 'vit_relpos_base_patch16_clsgap_224', 'vit_relpos_base_patch32_plus_rpn_256', 'vit_relpos_medium_patch16_224', 'vit_relpos_medium_patch16_cls_224', 'vit_relpos_medium_patch16_rpn_224', 'vit_relpos_small_patch16_224', 'vit_small_patch8_224_dino', 'vit_small_patch16_224', 'vit_small_patch16_224_dino', 'vit_small_patch16_224_in21k', 'vit_small_patch16_384', 'vit_small_patch32_224', 'vit_small_patch32_224_in21k', 'vit_small_patch32_384', 'vit_small_r26_s32_224', 'vit_small_r26_s32_224_in21k', 'vit_small_r26_s32_384', 'vit_srelpos_medium_patch16_224', 'vit_srelpos_small_patch16_224', 'vit_tiny_patch16_224', 'vit_tiny_patch16_224_in21k', 'vit_tiny_patch16_384', 'vit_tiny_r_s16_p8_224', 'vit_tiny_r_s16_p8_224_in21k', 'vit_tiny_r_s16_p8_384', 'volo_d1_224', 'volo_d1_384', 'volo_d2_224', 'volo_d2_384', 'volo_d3_224', 'volo_d3_448', 'volo_d4_224', 'volo_d4_448', 'volo_d5_224', 'volo_d5_448', 'volo_d5_512', 'wide_resnet50_2', 'wide_resnet101_2', 'xception', 'xception41', 'xception41p', 'xception65', 'xception65p', 'xception71', 'xcit_large_24_p8_224', 'xcit_large_24_p8_224_dist', 'xcit_large_24_p8_384_dist', 'xcit_large_24_p16_224', 'xcit_large_24_p16_224_dist', 'xcit_large_24_p16_384_dist', 'xcit_medium_24_p8_224', 'xcit_medium_24_p8_224_dist', 'xcit_medium_24_p8_384_dist', 'xcit_medium_24_p16_224', 'xcit_medium_24_p16_224_dist', 'xcit_medium_24_p16_384_dist', 'xcit_nano_12_p8_224', 'xcit_nano_12_p8_224_dist', 'xcit_nano_12_p8_384_dist', 'xcit_nano_12_p16_224', 'xcit_nano_12_p16_224_dist', 'xcit_nano_12_p16_384_dist', 'xcit_small_12_p8_224', 'xcit_small_12_p8_224_dist', 'xcit_small_12_p8_384_dist', 'xcit_small_12_p16_224', 'xcit_small_12_p16_224_dist', 'xcit_small_12_p16_384_dist', 'xcit_small_24_p8_224', 'xcit_small_24_p8_224_dist', 'xcit_small_24_p8_384_dist', 'xcit_small_24_p16_224', 'xcit_small_24_p16_224_dist', 'xcit_small_24_p16_384_dist', 'xcit_tiny_12_p8_224', 'xcit_tiny_12_p8_224_dist', 'xcit_tiny_12_p8_384_dist', 'xcit_tiny_12_p16_224', 'xcit_tiny_12_p16_224_dist', 'xcit_tiny_12_p16_384_dist', 'xcit_tiny_24_p8_224', 'xcit_tiny_24_p8_224_dist', 'xcit_tiny_24_p8_384_dist', 'xcit_tiny_24_p16_224', 'xcit_tiny_24_p16_224_dist', 'xcit_tiny_24_p16_384_dist']\n"
     ]
    }
   ],
   "source": [
    "pretrained_model_list = timm.list_models(pretrained=True)\n",
    "\n",
    "print(pretrained_model_list)\n"
   ]
  },
  {
   "cell_type": "code",
   "execution_count": 11,
   "id": "4e3a0540-7f64-4f69-8f62-467a647d9904",
   "metadata": {},
   "outputs": [],
   "source": [
    "!rm -r \"/home2/kchoi/image/plant/data/train/Fat Hen/.ipynb_checkpoints\""
   ]
  },
  {
   "cell_type": "code",
   "execution_count": 27,
   "id": "d5033b8c-bcd2-42a1-b4e0-f1d76bb9e592",
   "metadata": {},
   "outputs": [
    {
     "name": "stdout",
     "output_type": "stream",
     "text": [
      "/home2/kchoi/image\n"
     ]
    }
   ],
   "source": [
    "!pwd"
   ]
  },
  {
   "cell_type": "code",
   "execution_count": 12,
   "id": "8af40884-0cc4-482e-a284-fd783fd46b00",
   "metadata": {},
   "outputs": [
    {
     "data": {
      "application/javascript": [
       "IPython.notebook.set_autosave_interval(0)"
      ]
     },
     "metadata": {},
     "output_type": "display_data"
    },
    {
     "name": "stdout",
     "output_type": "stream",
     "text": [
      "Autosave disabled\n"
     ]
    }
   ],
   "source": [
    "%autosave 0"
   ]
  },
  {
   "cell_type": "code",
   "execution_count": 12,
   "id": "41c7e4a1-e775-4ec9-990d-3bd1059ac6b7",
   "metadata": {},
   "outputs": [
    {
     "ename": "TypeError",
     "evalue": "__init__() missing 3 required positional arguments: 'train_df', 'val_df', and 'test_df'",
     "output_type": "error",
     "traceback": [
      "\u001b[0;31m---------------------------------------------------------------------------\u001b[0m",
      "\u001b[0;31mTypeError\u001b[0m                                 Traceback (most recent call last)",
      "\u001b[0;32m/tmp/ipykernel_4067/2969631890.py\u001b[0m in \u001b[0;36m<module>\u001b[0;34m\u001b[0m\n\u001b[0;32m----> 1\u001b[0;31m \u001b[0mpdm\u001b[0m \u001b[0;34m=\u001b[0m \u001b[0mPlantDataModule\u001b[0m\u001b[0;34m(\u001b[0m\u001b[0mbatch_size\u001b[0m\u001b[0;34m=\u001b[0m\u001b[0;36m64\u001b[0m\u001b[0;34m)\u001b[0m\u001b[0;34m\u001b[0m\u001b[0;34m\u001b[0m\u001b[0m\n\u001b[0m\u001b[1;32m      2\u001b[0m \u001b[0mpdm\u001b[0m\u001b[0;34m.\u001b[0m\u001b[0msetup\u001b[0m\u001b[0;34m(\u001b[0m\u001b[0;34m)\u001b[0m\u001b[0;34m\u001b[0m\u001b[0;34m\u001b[0m\u001b[0m\n",
      "\u001b[0;31mTypeError\u001b[0m: __init__() missing 3 required positional arguments: 'train_df', 'val_df', and 'test_df'"
     ]
    }
   ],
   "source": [
    "pdm = PlantDataModule(batch_size=64)\n",
    "pdm.setup()"
   ]
  },
  {
   "cell_type": "code",
   "execution_count": 16,
   "id": "a7389760-4f97-4e14-a221-8a21ed2c47d4",
   "metadata": {},
   "outputs": [
    {
     "data": {
      "text/plain": [
       "(torch.Size([64, 3, 224, 224]), torch.Size([64]))"
      ]
     },
     "execution_count": 16,
     "metadata": {},
     "output_type": "execute_result"
    }
   ],
   "source": [
    "val_samples = next(iter(pdm.val_dataloader()))\n",
    "val_imgs, val_labels = val_samples[0], val_samples[1]\n",
    "val_imgs.shape, val_labels.shape"
   ]
  },
  {
   "cell_type": "code",
   "execution_count": 15,
   "id": "259d613d-daf5-4d6e-b5fd-621f6bc7c79d",
   "metadata": {},
   "outputs": [
    {
     "data": {
      "text/plain": [
       "tensor([[[[ 0.1137,  0.1488,  0.2167,  ..., -0.2310, -0.1951, -0.1765],\n",
       "          [ 0.1137,  0.1488,  0.2167,  ..., -0.2354, -0.2047, -0.1889],\n",
       "          [ 0.1137,  0.1488,  0.2167,  ..., -0.2439, -0.2234, -0.2128],\n",
       "          ...,\n",
       "          [ 0.1611,  0.1652,  0.1732,  ...,  0.2160,  0.2183,  0.2196],\n",
       "          [ 0.1092,  0.1133,  0.1213,  ...,  0.1505,  0.1671,  0.1757],\n",
       "          [ 0.0824,  0.0865,  0.0945,  ...,  0.1166,  0.1405,  0.1529]],\n",
       "\n",
       "         [[ 0.1216,  0.1629,  0.2427,  ..., -0.2370, -0.1971, -0.1765],\n",
       "          [ 0.1216,  0.1629,  0.2427,  ..., -0.2394, -0.2047, -0.1868],\n",
       "          [ 0.1216,  0.1629,  0.2427,  ..., -0.2439, -0.2194, -0.2068],\n",
       "          ...,\n",
       "          [ 0.1436,  0.1482,  0.1571,  ...,  0.1400,  0.1424,  0.1436],\n",
       "          [ 0.0877,  0.0934,  0.1043,  ...,  0.0626,  0.0792,  0.0877],\n",
       "          [ 0.0588,  0.0650,  0.0770,  ...,  0.0225,  0.0464,  0.0588]],\n",
       "\n",
       "         [[ 0.1529,  0.1963,  0.2801,  ..., -0.2092, -0.1773, -0.1608],\n",
       "          [ 0.1529,  0.1958,  0.2786,  ..., -0.2132, -0.1855, -0.1711],\n",
       "          [ 0.1529,  0.1947,  0.2755,  ..., -0.2208, -0.2012, -0.1911],\n",
       "          ...,\n",
       "          [ 0.0713,  0.0775,  0.0894,  ...,  0.1051,  0.1114,  0.1147],\n",
       "          [ 0.0114,  0.0176,  0.0296,  ...,  0.0156,  0.0362,  0.0469],\n",
       "          [-0.0196, -0.0134, -0.0014,  ..., -0.0306, -0.0027,  0.0118]]],\n",
       "\n",
       "\n",
       "        [[[ 0.4017,  0.4110,  0.3879,  ..., -0.3147, -0.2345, -0.3075],\n",
       "          [ 0.3742,  0.3904,  0.3754,  ..., -0.3419, -0.3090, -0.2914],\n",
       "          [ 0.4250,  0.2984,  0.3839,  ..., -0.3046, -0.3362, -0.3068],\n",
       "          ...,\n",
       "          [ 0.3967,  0.3766,  0.3912,  ..., -0.2084, -0.3590, -0.4435],\n",
       "          [ 0.4039,  0.3782,  0.4190,  ..., -0.2158, -0.3071, -0.4969],\n",
       "          [ 0.3966,  0.3855,  0.4224,  ..., -0.2241, -0.3888, -0.5432]],\n",
       "\n",
       "         [[ 0.3866,  0.3785,  0.3673,  ..., -0.4550, -0.3774, -0.4548],\n",
       "          [ 0.3590,  0.3651,  0.3555,  ..., -0.4782, -0.4455, -0.4062],\n",
       "          [ 0.3940,  0.2592,  0.3693,  ..., -0.4507, -0.4762, -0.4094],\n",
       "          ...,\n",
       "          [ 0.3969,  0.3904,  0.3980,  ..., -0.3671, -0.4734, -0.4601],\n",
       "          [ 0.3973,  0.3957,  0.4335,  ..., -0.3325, -0.3424, -0.4558],\n",
       "          [ 0.3972,  0.3860,  0.3997,  ..., -0.2787, -0.4086, -0.4599]],\n",
       "\n",
       "         [[ 0.3939,  0.4015,  0.3722,  ..., -0.5605, -0.4760, -0.5730],\n",
       "          [ 0.3664,  0.3775,  0.3743,  ..., -0.5698, -0.5474, -0.5481],\n",
       "          [ 0.4048,  0.2664,  0.3772,  ..., -0.5615, -0.5928, -0.5445],\n",
       "          ...,\n",
       "          [ 0.3961,  0.3832,  0.3998,  ..., -0.5818, -0.6965, -0.6846],\n",
       "          [ 0.4104,  0.4017,  0.4287,  ..., -0.5143, -0.5620, -0.6989],\n",
       "          [ 0.4123,  0.3864,  0.4075,  ..., -0.4709, -0.6342, -0.7097]]],\n",
       "\n",
       "\n",
       "        [[[-0.2911, -0.3175, -0.3008,  ..., -0.6555, -0.5161, -0.3197],\n",
       "          [-0.3764, -0.3827, -0.3223,  ..., -0.6075, -0.5134, -0.3702],\n",
       "          [-0.4320, -0.3910, -0.3353,  ..., -0.5805, -0.5021, -0.3830],\n",
       "          ...,\n",
       "          [ 0.1009, -0.0808, -0.4112,  ...,  0.2431,  0.2367,  0.2592],\n",
       "          [ 0.0983, -0.1126, -0.4400,  ...,  0.2396,  0.2423,  0.2549],\n",
       "          [ 0.0566, -0.1688, -0.4725,  ...,  0.2459,  0.2494,  0.2533]],\n",
       "\n",
       "         [[-0.4448, -0.4816, -0.4655,  ..., -0.7696, -0.6285, -0.4255],\n",
       "          [-0.5426, -0.5544, -0.4870,  ..., -0.7169, -0.6209, -0.4646],\n",
       "          [-0.6072, -0.5635, -0.5040,  ..., -0.7391, -0.6377, -0.4908],\n",
       "          ...,\n",
       "          [ 0.1275, -0.0827, -0.4640,  ...,  0.2882,  0.2795,  0.2929],\n",
       "          [ 0.1198, -0.1181, -0.4912,  ...,  0.2863,  0.2878,  0.2936],\n",
       "          [ 0.0881, -0.1739, -0.5273,  ...,  0.2835,  0.2886,  0.2870]],\n",
       "\n",
       "         [[-0.5775, -0.6126, -0.6188,  ..., -0.8435, -0.7517, -0.5503],\n",
       "          [-0.6616, -0.6729, -0.6180,  ..., -0.7727, -0.7189, -0.5758],\n",
       "          [-0.7053, -0.6616, -0.6138,  ..., -0.7648, -0.7060, -0.5814],\n",
       "          ...,\n",
       "          [ 0.1785, -0.0317, -0.4248,  ...,  0.3490,  0.3427,  0.3569],\n",
       "          [ 0.1755, -0.0631, -0.4516,  ...,  0.3490,  0.3505,  0.3563],\n",
       "          [ 0.1453, -0.1188, -0.4841,  ...,  0.3517,  0.3519,  0.3514]]],\n",
       "\n",
       "\n",
       "        ...,\n",
       "\n",
       "\n",
       "        [[[-0.3804, -0.3804, -0.3804,  ..., -0.3412, -0.3412, -0.3412],\n",
       "          [-0.3827, -0.3827, -0.3827,  ..., -0.3420, -0.3445, -0.3458],\n",
       "          [-0.3869, -0.3869, -0.3869,  ..., -0.3434, -0.3503, -0.3542],\n",
       "          ...,\n",
       "          [-0.4732, -0.4777, -0.4859,  ..., -0.4667, -0.4625, -0.4602],\n",
       "          [-0.4690, -0.4662, -0.4611,  ..., -0.4708, -0.4667, -0.4643],\n",
       "          [-0.4667, -0.4597, -0.4472,  ..., -0.4732, -0.4690, -0.4667]],\n",
       "\n",
       "         [[-0.5137, -0.5137, -0.5137,  ..., -0.4380, -0.4463, -0.4510],\n",
       "          [-0.5161, -0.5161, -0.5161,  ..., -0.4458, -0.4566, -0.4626],\n",
       "          [-0.5202, -0.5202, -0.5202,  ..., -0.4597, -0.4749, -0.4835],\n",
       "          ...,\n",
       "          [-0.6235, -0.6281, -0.6363,  ..., -0.5987, -0.5945, -0.5922],\n",
       "          [-0.6235, -0.6207, -0.6156,  ..., -0.5987, -0.5945, -0.5922],\n",
       "          [-0.6235, -0.6165, -0.6040,  ..., -0.5987, -0.5945, -0.5922]],\n",
       "\n",
       "         [[-0.7098, -0.7098, -0.7098,  ..., -0.7360, -0.7444, -0.7490],\n",
       "          [-0.7098, -0.7105, -0.7117,  ..., -0.7345, -0.7453, -0.7513],\n",
       "          [-0.7098, -0.7117, -0.7152,  ..., -0.7318, -0.7470, -0.7555],\n",
       "          ...,\n",
       "          [-0.6928, -0.6997, -0.7121,  ..., -0.6979, -0.6896, -0.6849],\n",
       "          [-0.6886, -0.6881, -0.6872,  ..., -0.6938, -0.6854, -0.6808],\n",
       "          [-0.6863, -0.6816, -0.6733,  ..., -0.6914, -0.6831, -0.6784]]],\n",
       "\n",
       "\n",
       "        [[[-0.4118, -0.3928, -0.3777,  ..., -0.3412, -0.3381, -0.3333],\n",
       "          [-0.4307, -0.4032, -0.3825,  ..., -0.3364, -0.3390, -0.3428],\n",
       "          [-0.4646, -0.4184, -0.3837,  ..., -0.3325, -0.3337, -0.3383],\n",
       "          ...,\n",
       "          [-0.5080, -0.4891, -0.4688,  ..., -0.2435, -0.2349, -0.2287],\n",
       "          [-0.5139, -0.5089, -0.4929,  ..., -0.2628, -0.2453, -0.2283],\n",
       "          [-0.4902, -0.5139, -0.5133,  ..., -0.2786, -0.2520, -0.2235]],\n",
       "\n",
       "         [[-0.5843, -0.5748, -0.5659,  ..., -0.4850, -0.4793, -0.4745],\n",
       "          [-0.6033, -0.5823, -0.5692,  ..., -0.4882, -0.4859, -0.4840],\n",
       "          [-0.6398, -0.5984, -0.5703,  ..., -0.4867, -0.4827, -0.4795],\n",
       "          ...,\n",
       "          [-0.6857, -0.6716, -0.6545,  ..., -0.4752, -0.4686, -0.4640],\n",
       "          [-0.6912, -0.6910, -0.6732,  ..., -0.5001, -0.4824, -0.4636],\n",
       "          [-0.6627, -0.6912, -0.6857,  ..., -0.5191, -0.4920, -0.4588]],\n",
       "\n",
       "         [[-0.7804, -0.7756, -0.7725,  ..., -0.6235, -0.6204, -0.6157],\n",
       "          [-0.7899, -0.7765, -0.7710,  ..., -0.6283, -0.6289, -0.6299],\n",
       "          [-0.8121, -0.7802, -0.7638,  ..., -0.6288, -0.6270, -0.6285],\n",
       "          ...,\n",
       "          [-0.8244, -0.8150, -0.8001,  ..., -0.7384, -0.7348, -0.7333],\n",
       "          [-0.8214, -0.8260, -0.8123,  ..., -0.7558, -0.7419, -0.7240],\n",
       "          [-0.7882, -0.8214, -0.8217,  ..., -0.7699, -0.7478, -0.7098]]],\n",
       "\n",
       "\n",
       "        [[[-0.3176, -0.3176, -0.3144,  ..., -0.5052, -0.5137, -0.5137],\n",
       "          [-0.3176, -0.3176, -0.3144,  ..., -0.5052, -0.5137, -0.5137],\n",
       "          [-0.3166, -0.3166, -0.3138,  ..., -0.5002, -0.5073, -0.5073],\n",
       "          ...,\n",
       "          [-0.6998, -0.6998, -0.7071,  ..., -0.3360, -0.3358, -0.3358],\n",
       "          [-0.7020, -0.7020, -0.7105,  ..., -0.3412, -0.3412, -0.3412],\n",
       "          [-0.7020, -0.7020, -0.7105,  ..., -0.3412, -0.3412, -0.3412]],\n",
       "\n",
       "         [[-0.4039, -0.4039, -0.3996,  ..., -0.7394, -0.7490, -0.7490],\n",
       "          [-0.4039, -0.4039, -0.3996,  ..., -0.7394, -0.7490, -0.7490],\n",
       "          [-0.4007, -0.4007, -0.3970,  ..., -0.7326, -0.7405, -0.7405],\n",
       "          ...,\n",
       "          [-0.8018, -0.8018, -0.8146,  ..., -0.4584, -0.4603, -0.4603],\n",
       "          [-0.8039, -0.8039, -0.8189,  ..., -0.4645, -0.4667, -0.4667],\n",
       "          [-0.8039, -0.8039, -0.8189,  ..., -0.4645, -0.4667, -0.4667]],\n",
       "\n",
       "         [[-0.5529, -0.5529, -0.5465,  ..., -0.8884, -0.8980, -0.8980],\n",
       "          [-0.5529, -0.5529, -0.5465,  ..., -0.8884, -0.8980, -0.8980],\n",
       "          [-0.5487, -0.5487, -0.5431,  ..., -0.8787, -0.8863, -0.8863],\n",
       "          ...,\n",
       "          [-0.8275, -0.8275, -0.8372,  ..., -0.5527, -0.5533, -0.5533],\n",
       "          [-0.8275, -0.8275, -0.8392,  ..., -0.5597, -0.5608, -0.5608],\n",
       "          [-0.8275, -0.8275, -0.8392,  ..., -0.5597, -0.5608, -0.5608]]]])"
      ]
     },
     "execution_count": 15,
     "metadata": {},
     "output_type": "execute_result"
    }
   ],
   "source": []
  },
  {
   "cell_type": "code",
   "execution_count": 68,
   "id": "8d88ff1d-0e53-4c77-b9c1-42839a126084",
   "metadata": {},
   "outputs": [
    {
     "name": "stderr",
     "output_type": "stream",
     "text": [
      "GPU available: True, used: True\n",
      "TPU available: False, using: 0 TPU cores\n",
      "IPU available: False, using: 0 IPUs\n",
      "HPU available: False, using: 0 HPUs\n",
      "LOCAL_RANK: 0 - CUDA_VISIBLE_DEVICES: [0]\n",
      "\n",
      "  | Name     | Type      | Params\n",
      "---------------------------------------\n",
      "0 | conv1    | Conv2d    | 896   \n",
      "1 | conv2    | Conv2d    | 9.2 K \n",
      "2 | conv3    | Conv2d    | 18.5 K\n",
      "3 | conv4    | Conv2d    | 36.9 K\n",
      "4 | pool1    | MaxPool2d | 0     \n",
      "5 | pool2    | MaxPool2d | 0     \n",
      "6 | fc1      | Linear    | 819 K \n",
      "7 | fc2      | Linear    | 65.7 K\n",
      "8 | fc3      | Linear    | 1.5 K \n",
      "9 | accuracy | Accuracy  | 0     \n",
      "---------------------------------------\n",
      "952 K     Trainable params\n",
      "0         Non-trainable params\n",
      "952 K     Total params\n",
      "3.810     Total estimated model params size (MB)\n"
     ]
    },
    {
     "data": {
      "application/vnd.jupyter.widget-view+json": {
       "model_id": "",
       "version_major": 2,
       "version_minor": 0
      },
      "text/plain": [
       "Sanity Checking: 0it [00:00, ?it/s]"
      ]
     },
     "metadata": {},
     "output_type": "display_data"
    },
    {
     "data": {
      "application/vnd.jupyter.widget-view+json": {
       "model_id": "e1c8c1ffded3476db57c7c13e7a674d4",
       "version_major": 2,
       "version_minor": 0
      },
      "text/plain": [
       "Training: 0it [00:00, ?it/s]"
      ]
     },
     "metadata": {},
     "output_type": "display_data"
    },
    {
     "data": {
      "application/vnd.jupyter.widget-view+json": {
       "model_id": "",
       "version_major": 2,
       "version_minor": 0
      },
      "text/plain": [
       "Validation: 0it [00:00, ?it/s]"
      ]
     },
     "metadata": {},
     "output_type": "display_data"
    },
    {
     "data": {
      "application/vnd.jupyter.widget-view+json": {
       "model_id": "",
       "version_major": 2,
       "version_minor": 0
      },
      "text/plain": [
       "Validation: 0it [00:00, ?it/s]"
      ]
     },
     "metadata": {},
     "output_type": "display_data"
    },
    {
     "data": {
      "application/vnd.jupyter.widget-view+json": {
       "model_id": "",
       "version_major": 2,
       "version_minor": 0
      },
      "text/plain": [
       "Validation: 0it [00:00, ?it/s]"
      ]
     },
     "metadata": {},
     "output_type": "display_data"
    },
    {
     "data": {
      "application/vnd.jupyter.widget-view+json": {
       "model_id": "",
       "version_major": 2,
       "version_minor": 0
      },
      "text/plain": [
       "Validation: 0it [00:00, ?it/s]"
      ]
     },
     "metadata": {},
     "output_type": "display_data"
    },
    {
     "data": {
      "application/vnd.jupyter.widget-view+json": {
       "model_id": "",
       "version_major": 2,
       "version_minor": 0
      },
      "text/plain": [
       "Validation: 0it [00:00, ?it/s]"
      ]
     },
     "metadata": {},
     "output_type": "display_data"
    },
    {
     "data": {
      "application/vnd.jupyter.widget-view+json": {
       "model_id": "",
       "version_major": 2,
       "version_minor": 0
      },
      "text/plain": [
       "Validation: 0it [00:00, ?it/s]"
      ]
     },
     "metadata": {},
     "output_type": "display_data"
    },
    {
     "data": {
      "application/vnd.jupyter.widget-view+json": {
       "model_id": "",
       "version_major": 2,
       "version_minor": 0
      },
      "text/plain": [
       "Validation: 0it [00:00, ?it/s]"
      ]
     },
     "metadata": {},
     "output_type": "display_data"
    },
    {
     "ename": "NameError",
     "evalue": "name 'dm' is not defined",
     "output_type": "error",
     "traceback": [
      "\u001b[0;31m---------------------------------------------------------------------------\u001b[0m",
      "\u001b[0;31mNameError\u001b[0m                                 Traceback (most recent call last)",
      "\u001b[0;32m/tmp/ipykernel_30500/564621156.py\u001b[0m in \u001b[0;36m<module>\u001b[0;34m\u001b[0m\n\u001b[1;32m     21\u001b[0m \u001b[0;34m\u001b[0m\u001b[0m\n\u001b[1;32m     22\u001b[0m \u001b[0;31m# Evaluate the model on the held-out test set ⚡⚡\u001b[0m\u001b[0;34m\u001b[0m\u001b[0;34m\u001b[0m\u001b[0;34m\u001b[0m\u001b[0m\n\u001b[0;32m---> 23\u001b[0;31m \u001b[0mtrainer\u001b[0m\u001b[0;34m.\u001b[0m\u001b[0mtest\u001b[0m\u001b[0;34m(\u001b[0m\u001b[0mdataloaders\u001b[0m\u001b[0;34m=\u001b[0m\u001b[0mdm\u001b[0m\u001b[0;34m.\u001b[0m\u001b[0mtest_dataloader\u001b[0m\u001b[0;34m(\u001b[0m\u001b[0;34m)\u001b[0m\u001b[0;34m)\u001b[0m\u001b[0;34m\u001b[0m\u001b[0;34m\u001b[0m\u001b[0m\n\u001b[0m\u001b[1;32m     24\u001b[0m \u001b[0;34m\u001b[0m\u001b[0m\n\u001b[1;32m     25\u001b[0m \u001b[0;31m# Close wandb run\u001b[0m\u001b[0;34m\u001b[0m\u001b[0;34m\u001b[0m\u001b[0;34m\u001b[0m\u001b[0m\n",
      "\u001b[0;31mNameError\u001b[0m: name 'dm' is not defined"
     ]
    },
    {
     "name": "stderr",
     "output_type": "stream",
     "text": [
      "/home/kchoi/.conda/envs/pl/lib/python3.7/site-packages/requests/__init__.py:104: RequestsDependencyWarning: urllib3 (1.26.9) or chardet (5.1.0)/charset_normalizer (2.0.4) doesn't match a supported version!\n",
      "  RequestsDependencyWarning)\n",
      "Exception in thread NetStatThr:\n",
      "Traceback (most recent call last):\n",
      "  File \"/home/kchoi/.conda/envs/pl/lib/python3.7/threading.py\", line 926, in _bootstrap_inner\n",
      "    self.run()\n",
      "  File \"/home/kchoi/.conda/envs/pl/lib/python3.7/threading.py\", line 870, in run\n",
      "    self._target(*self._args, **self._kwargs)\n",
      "  File \"/home/kchoi/.conda/envs/pl/lib/python3.7/site-packages/wandb/sdk/wandb_run.py\", line 152, in check_network_status\n",
      "    status_response = self._interface.communicate_network_status()\n",
      "  File \"/home/kchoi/.conda/envs/pl/lib/python3.7/site-packages/wandb/sdk/interface/interface.py\", line 138, in communicate_network_status\n",
      "    resp = self._communicate_network_status(status)\n",
      "  File \"/home/kchoi/.conda/envs/pl/lib/python3.7/site-packages/wandb/sdk/interface/interface_shared.py\", line 405, in _communicate_network_status\n",
      "    resp = self._communicate(req, local=True)\n",
      "  File \"/home/kchoi/.conda/envs/pl/lib/python3.7/site-packages/wandb/sdk/interface/interface_shared.py\", line 226, in _communicate\n",
      "    return self._communicate_async(rec, local=local).get(timeout=timeout)\n",
      "  File \"/home/kchoi/.conda/envs/pl/lib/python3.7/site-packages/wandb/sdk/interface/interface_shared.py\", line 231, in _communicate_async\n",
      "    raise Exception(\"The wandb backend process has shutdown\")\n",
      "Exception: The wandb backend process has shutdown\n",
      "\n",
      "Exception in thread ChkStopThr:\n",
      "Traceback (most recent call last):\n",
      "  File \"/home/kchoi/.conda/envs/pl/lib/python3.7/threading.py\", line 926, in _bootstrap_inner\n",
      "    self.run()\n",
      "  File \"/home/kchoi/.conda/envs/pl/lib/python3.7/threading.py\", line 870, in run\n",
      "    self._target(*self._args, **self._kwargs)\n",
      "  File \"/home/kchoi/.conda/envs/pl/lib/python3.7/site-packages/wandb/sdk/wandb_run.py\", line 170, in check_status\n",
      "    status_response = self._interface.communicate_stop_status()\n",
      "  File \"/home/kchoi/.conda/envs/pl/lib/python3.7/site-packages/wandb/sdk/interface/interface.py\", line 127, in communicate_stop_status\n",
      "    resp = self._communicate_stop_status(status)\n",
      "  File \"/home/kchoi/.conda/envs/pl/lib/python3.7/site-packages/wandb/sdk/interface/interface_shared.py\", line 395, in _communicate_stop_status\n",
      "    resp = self._communicate(req, local=True)\n",
      "  File \"/home/kchoi/.conda/envs/pl/lib/python3.7/site-packages/wandb/sdk/interface/interface_shared.py\", line 226, in _communicate\n",
      "    return self._communicate_async(rec, local=local).get(timeout=timeout)\n",
      "  File \"/home/kchoi/.conda/envs/pl/lib/python3.7/site-packages/wandb/sdk/interface/interface_shared.py\", line 231, in _communicate_async\n",
      "    raise Exception(\"The wandb backend process has shutdown\")\n",
      "Exception: The wandb backend process has shutdown\n",
      "\n"
     ]
    }
   ],
   "source": [
    "model = LitModel((3, 32, 32), pdm.num_classes)\n",
    "\n",
    "# Initialize wandb logger\n",
    "wandb_logger = WandbLogger(project='wandb-lightning', job_type='train')\n",
    "\n",
    "# Initialize Callbacks\n",
    "early_stop_callback = pl.callbacks.EarlyStopping(monitor=\"val_loss\")\n",
    "checkpoint_callback = pl.callbacks.ModelCheckpoint()\n",
    "\n",
    "# Initialize a trainer\n",
    "trainer = pl.Trainer(max_epochs=10,\n",
    "                     gpus=1, \n",
    "                     logger=wandb_logger,\n",
    "                     callbacks=[early_stop_callback,\n",
    "                                ImagePredictionLogger(val_samples),\n",
    "                                checkpoint_callback],\n",
    "                     )\n",
    "\n",
    "# Train the model ⚡🚅⚡\n",
    "trainer.fit(model, pdm)\n",
    "\n",
    "# Evaluate the model on the held-out test set ⚡⚡\n",
    "trainer.test(dataloaders=dm.test_dataloader())\n",
    "\n",
    "# Close wandb run\n",
    "wandb.finish()"
   ]
  },
  {
   "cell_type": "code",
   "execution_count": null,
   "id": "b3d26f00-c2e8-446e-9985-e44e1a2ec0af",
   "metadata": {},
   "outputs": [],
   "source": []
  },
  {
   "cell_type": "code",
   "execution_count": 5,
   "id": "7c7fe1bf-5631-43b7-aac7-287eb7bbe327",
   "metadata": {},
   "outputs": [],
   "source": []
  },
  {
   "cell_type": "code",
   "execution_count": 6,
   "id": "4fe880a7-e06f-407b-998e-43c385dfbdfb",
   "metadata": {},
   "outputs": [
    {
     "data": {
      "text/html": [
       "<div>\n",
       "<style scoped>\n",
       "    .dataframe tbody tr th:only-of-type {\n",
       "        vertical-align: middle;\n",
       "    }\n",
       "\n",
       "    .dataframe tbody tr th {\n",
       "        vertical-align: top;\n",
       "    }\n",
       "\n",
       "    .dataframe thead th {\n",
       "        text-align: right;\n",
       "    }\n",
       "</style>\n",
       "<table border=\"1\" class=\"dataframe\">\n",
       "  <thead>\n",
       "    <tr style=\"text-align: right;\">\n",
       "      <th></th>\n",
       "      <th>file</th>\n",
       "      <th>class</th>\n",
       "      <th>class_index</th>\n",
       "    </tr>\n",
       "  </thead>\n",
       "  <tbody>\n",
       "    <tr>\n",
       "      <th>0</th>\n",
       "      <td>Black-grass/7050b0b8a.png</td>\n",
       "      <td>Black-grass</td>\n",
       "      <td>0</td>\n",
       "    </tr>\n",
       "    <tr>\n",
       "      <th>1</th>\n",
       "      <td>Black-grass/40bf7be90.png</td>\n",
       "      <td>Black-grass</td>\n",
       "      <td>0</td>\n",
       "    </tr>\n",
       "    <tr>\n",
       "      <th>2</th>\n",
       "      <td>Black-grass/dcbd3fa08.png</td>\n",
       "      <td>Black-grass</td>\n",
       "      <td>0</td>\n",
       "    </tr>\n",
       "    <tr>\n",
       "      <th>3</th>\n",
       "      <td>Black-grass/88fceea2f.png</td>\n",
       "      <td>Black-grass</td>\n",
       "      <td>0</td>\n",
       "    </tr>\n",
       "    <tr>\n",
       "      <th>4</th>\n",
       "      <td>Black-grass/89f06ca64.png</td>\n",
       "      <td>Black-grass</td>\n",
       "      <td>0</td>\n",
       "    </tr>\n",
       "    <tr>\n",
       "      <th>...</th>\n",
       "      <td>...</td>\n",
       "      <td>...</td>\n",
       "      <td>...</td>\n",
       "    </tr>\n",
       "    <tr>\n",
       "      <th>4747</th>\n",
       "      <td>Sugar beet/12c104178.png</td>\n",
       "      <td>Sugar beet</td>\n",
       "      <td>11</td>\n",
       "    </tr>\n",
       "    <tr>\n",
       "      <th>4748</th>\n",
       "      <td>Sugar beet/0b992e297.png</td>\n",
       "      <td>Sugar beet</td>\n",
       "      <td>11</td>\n",
       "    </tr>\n",
       "    <tr>\n",
       "      <th>4749</th>\n",
       "      <td>Sugar beet/5be7ccae6.png</td>\n",
       "      <td>Sugar beet</td>\n",
       "      <td>11</td>\n",
       "    </tr>\n",
       "    <tr>\n",
       "      <th>4750</th>\n",
       "      <td>Sugar beet/e7bed72a5.png</td>\n",
       "      <td>Sugar beet</td>\n",
       "      <td>11</td>\n",
       "    </tr>\n",
       "    <tr>\n",
       "      <th>4751</th>\n",
       "      <td>Sugar beet/5bb9cb07b.png</td>\n",
       "      <td>Sugar beet</td>\n",
       "      <td>11</td>\n",
       "    </tr>\n",
       "  </tbody>\n",
       "</table>\n",
       "<p>4752 rows × 3 columns</p>\n",
       "</div>"
      ],
      "text/plain": [
       "                           file        class  class_index\n",
       "0     Black-grass/7050b0b8a.png  Black-grass            0\n",
       "1     Black-grass/40bf7be90.png  Black-grass            0\n",
       "2     Black-grass/dcbd3fa08.png  Black-grass            0\n",
       "3     Black-grass/88fceea2f.png  Black-grass            0\n",
       "4     Black-grass/89f06ca64.png  Black-grass            0\n",
       "...                         ...          ...          ...\n",
       "4747   Sugar beet/12c104178.png   Sugar beet           11\n",
       "4748   Sugar beet/0b992e297.png   Sugar beet           11\n",
       "4749   Sugar beet/5be7ccae6.png   Sugar beet           11\n",
       "4750   Sugar beet/e7bed72a5.png   Sugar beet           11\n",
       "4751   Sugar beet/5bb9cb07b.png   Sugar beet           11\n",
       "\n",
       "[4752 rows x 3 columns]"
      ]
     },
     "execution_count": 6,
     "metadata": {},
     "output_type": "execute_result"
    }
   ],
   "source": [
    "df"
   ]
  },
  {
   "cell_type": "code",
   "execution_count": null,
   "id": "bd5b3ab9-0592-4b84-b1d2-856f1d655656",
   "metadata": {},
   "outputs": [],
   "source": []
  },
  {
   "cell_type": "code",
   "execution_count": 29,
   "id": "e489612d-4dc5-4444-96d9-328d285c8af9",
   "metadata": {},
   "outputs": [],
   "source": [
    "#Model\n",
    "\n",
    "\n",
    "import pytorch_lightning as pl\n",
    "import torch\n",
    "from torchmetrics.functional import auroc\n",
    "from transformers import AdamW#, AutoModelForMaskedLM, AutoConfig\n",
    "from transformers import get_linear_schedule_with_warmup\n",
    "import torch.nn as nn\n",
    "import pickle\n",
    "\n",
    "from torchvision import transforms\n",
    "from torchvision.datasets import CIFAR10\n",
    "\n",
    "class Plant_Detection(pl.LightningModule):\n",
    "    \"\"\"\n",
    "    Multi-class Classification model for Plant seedling Detection Task\n",
    "    \"\"\"\n",
    "    def __init__(self, n_classes: int = 12,\n",
    "                 n_training_steps=None,\n",
    "                 n_warmup_steps=None,\n",
    "                 config=None):\n",
    "        \"\"\"\n",
    "        Args:\n",
    "            :param n_classes: Number of classes to classify\n",
    "            :param n_training_steps: Number of training steps, not used for inferencing\n",
    "            :param n_warmup_steps: Number of Warmup steps: not used for inferencing\n",
    "        \"\"\"\n",
    "        super().__init__()\n",
    "        \n",
    "        #TODO1: Edit to img model \n",
    "        # self.config = AutoConfig.from_pretrained(\"klue/roberta-base\", output_hidden_states=True)\n",
    "        # self.model = AutoModelForMaskedLM.from_pretrained(\"klue/roberta-base\", config=self.config)\n",
    "#         self.classifier = nn.Linear(self.model.config.hidden_size, n_classes)\n",
    "#         self.n_training_steps = n_training_steps\n",
    "#         self.n_warmup_steps = n_warmup_steps\n",
    "#         self.criterion = nn.BCEWithLogitsLoss()  # nn.BCELoss() with sigmoid layer\n",
    "#         self.dropout = nn.Dropout(self.config.hidden_dropout_prob)\n",
    "#         self.dense = nn.Linear(self.model.config.hidden_size, self.model.config.hidden_size)\n",
    "#         self.activation = nn.Tanh()\n",
    "        \n",
    "\n",
    "    def forward(self, input_ids, attention_mask=None, token_type_ids=None,\n",
    "            position_ids=None, head_mask=None, labels=None):\n",
    "        output = self.model(input_ids, attention_mask=attention_mask)\n",
    "        last_hidden_state = output.hidden_states[-1]\n",
    "        pooled_output = self.classifier(self.dropout(self.activation(self.dense(last_hidden_state[:, 0]))))\n",
    "        loss = 0\n",
    "        if labels is not None:\n",
    "            loss = self.criterion(pooled_output, labels)\n",
    "        return loss, torch.sigmoid(pooled_output)\n",
    "\n",
    "    def training_step(self, batch, batch_idx):\n",
    "        input_ids = batch[\"input_ids\"]\n",
    "        attention_mask = batch[\"attention_mask\"]\n",
    "        labels = batch[\"labels\"]\n",
    "        loss, outputs = self(input_ids=input_ids, attention_mask=attention_mask, labels=labels)\n",
    "        self.log(\"train_loss\", loss, prog_bar=True, logger=True)\n",
    "        return {\"loss\": loss, \"predictions\": outputs, \"labels\": labels}\n",
    "\n",
    "    def validation_step(self, batch, batch_idx):\n",
    "        input_ids = batch[\"input_ids\"]\n",
    "        attention_mask = batch[\"attention_mask\"]\n",
    "        labels = batch[\"labels\"]\n",
    "        loss, outputs = self(input_ids=input_ids, attention_mask=attention_mask, labels=labels)\n",
    "        self.log(\"val_loss\", loss, prog_bar=True, logger=True)\n",
    "        return loss\n",
    "\n",
    "    def test_step(self, batch, batch_idx):\n",
    "        input_ids = batch[\"input_ids\"]\n",
    "        attention_mask = batch[\"attention_mask\"]\n",
    "        labels = batch[\"labels\"]\n",
    "        loss, outputs = self(input_ids=input_ids, attention_mask=attention_mask, labels=labels)\n",
    "        # self.log(\"test_loss\", loss, prog_bar=True, logger=True)\n",
    "        return loss\n",
    "\n",
    "    def predict_step(self, batch, batch_idx, dataset_idx=0):\n",
    "        input_ids = batch[\"input_ids\"]\n",
    "        attention_mask = batch[\"attention_mask\"]\n",
    "        labels = batch[\"labels\"]\n",
    "        loss, outputs = self(input_ids=input_ids, attention_mask=attention_mask, labels=labels)\n",
    "        # self.log(\"predic_loss\", loss, prog_bar=True, logger=True)\n",
    "        return loss, outputs\n",
    "\n",
    "    def training_epoch_end(self, outputs):\n",
    "        labels = []\n",
    "        predictions = []\n",
    "        for output in outputs:\n",
    "            for out_labels in output[\"labels\"]:\n",
    "                labels.append(out_labels)\n",
    "            for out_predictions in output[\"predictions\"]:\n",
    "                predictions.append(out_predictions)\n",
    "        labels = torch.stack(labels).int()\n",
    "        predictions = torch.stack(predictions)\n",
    "        for i, name in enumerate([0]*10):\n",
    "            class_roc_auc = auroc(predictions[:, i], labels[:, i])\n",
    "            self.logger.experiment.add_scalar(f\"{name}_roc_auc/Train\", class_roc_auc, self.current_epoch)\n",
    "\n",
    "    def configure_optimizers(self):\n",
    "        optimizer = AdamW(self.parameters(), lr=2e-4)\n",
    "        scheduler = get_linear_schedule_with_warmup(optimizer, num_warmup_steps=self.n_warmup_steps,\n",
    "                                                    num_training_steps=self.n_training_steps)\n",
    "        return dict(optimizer=optimizer, lr_scheduler=dict(scheduler=scheduler, interval='step'))\n"
   ]
  },
  {
   "cell_type": "code",
   "execution_count": null,
   "id": "ab26788c-d2a5-4d4a-a913-af8ecaea309a",
   "metadata": {},
   "outputs": [],
   "source": []
  }
 ],
 "metadata": {
  "kernelspec": {
   "display_name": "Python [conda env:.conda-pl] *",
   "language": "python",
   "name": "conda-env-.conda-pl-py"
  },
  "language_info": {
   "codemirror_mode": {
    "name": "ipython",
    "version": 3
   },
   "file_extension": ".py",
   "mimetype": "text/x-python",
   "name": "python",
   "nbconvert_exporter": "python",
   "pygments_lexer": "ipython3",
   "version": "3.7.13"
  }
 },
 "nbformat": 4,
 "nbformat_minor": 5
}
